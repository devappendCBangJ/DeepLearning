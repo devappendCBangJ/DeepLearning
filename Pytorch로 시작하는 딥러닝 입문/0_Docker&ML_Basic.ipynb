{
 "cells": [
  {
   "cell_type": "raw",
   "id": "4a429da8",
   "metadata": {},
   "source": [
    "● Docker  \n",
    " 0. docker 사용 순서  \n",
    "    1) docker for windows 다운 및 가이드대로 추가 설치  \n",
    "    2) 명령 프롬프트 실행  \n",
    "    3) docker run hello-world 입력  \n",
    "\n",
    "● Machine Learning  \n",
    " 0. 튜토리얼  \n",
    "  - Teachable Machine : GUI 형태 딥러닝  \n",
    " 1. 머신러닝 사용 순서  \n",
    "  1) 문제 인식  \n",
    "    - https://docs.google.com/spreadsheets/d/1mdCb-xRYBAsAOeiC7miyQgcMqVzCpg_67OmfdGRvVAY/edit  \n",
    "  2) 데이터 수집 및 전처리  \n",
    " \n",
    "  3) 데이터 학습  \n",
    "   (1) 표  \n",
    "    열(column) = 특성(feature) = 속성(attribute) = 변수(variable) = field  \n",
    "    행(instance) = 관측치(observed value) = 기록(record) = 사례(example) = 경우(case)  \n",
    "   (2) 변수  \n",
    "    [1] 상관관계 : 변수 사이 관련성  \n",
    "     - 인과관계 : 변수 사이 원인<->결과  \n",
    "      독립변수 = 원인  \n",
    "      종속변수 = 결과  \n",
    "   (3) 머신러닝  \n",
    "    - 기계학습  \n",
    "     [1] 지도학습 : 배움 >> 정답 추출 문제  \n",
    "      - 회귀(regression) : 정답이 숫자. 독립변수, 종속변수 존재  \n",
    "      - 분류(classification) : 정답이 문자. 독립변수, 종속변수 존재  \n",
    "     [2] 비지도학습 : 배움 >> 의미, 관계 추론 문제  \n",
    "      - 군집화(clustering) : 비슷한 행을 그룹핑. 독립변수, 종속변수 존재 x  \n",
    "      - 연관(association rule learning) : 비슷한 열을 그룹핑. 독립변수, 종속변수 존재 x  \n",
    "      - 변환  \n",
    "     [3] 강화학습 : 경험 >> 정답 추출 문제  \n",
    "      - 상vs벌 by 점수부여  \n",
    "      - 목적 : 환경(environment) 속에서 상태(state)에 따라서 더 많은 보상(reward)을 받을 수 있는 행동(action)을  \n",
    "\t에이전트(agent)가 할 수 있도록 하는 정책(policy)을 만드는 것  \n",
    " \n",
    "  4) 모델 생성(데이터 사이 관계 도출 및 예측)  \n",
    "  5) 테스트 및 피드백  \n",
    " 2. 종류  \n",
    "  0) 사물인터넷 = 코딩 + 네트워크 + 전자공학 + 기계공학  \n",
    "  1) 데이터 과학 : 데이터 자체(데이터 제작, 이용)  \n",
    "  2) 데이터 공학 : 데이터 위한 도구(데이터를 다루는 도구 제작)  "
   ]
  },
  {
   "cell_type": "code",
   "execution_count": null,
   "id": "405e8877",
   "metadata": {},
   "outputs": [],
   "source": []
  }
 ],
 "metadata": {
  "kernelspec": {
   "display_name": "Python 3",
   "language": "python",
   "name": "python3"
  },
  "language_info": {
   "codemirror_mode": {
    "name": "ipython",
    "version": 3
   },
   "file_extension": ".py",
   "mimetype": "text/x-python",
   "name": "python",
   "nbconvert_exporter": "python",
   "pygments_lexer": "ipython3",
   "version": "3.8.8"
  }
 },
 "nbformat": 4,
 "nbformat_minor": 5
}
