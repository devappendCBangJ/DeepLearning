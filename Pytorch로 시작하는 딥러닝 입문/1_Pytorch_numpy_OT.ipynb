{
 "cells": [
  {
   "cell_type": "code",
   "execution_count": 8,
   "id": "02d64f76",
   "metadata": {},
   "outputs": [],
   "source": [
    "from IPython.display import Image"
   ]
  },
  {
   "cell_type": "markdown",
   "id": "c34968fd",
   "metadata": {},
   "source": [
    "Pytorch 공부 사이트 : https://wikidocs.net/52460  \n",
    "\n",
    " 1. 목차  \n",
    "\t1) Vector, Matrix, Tensor  \n",
    "\t2) Numpy  \n",
    "\t3) 텐서 할당(PyTorch Tensor Allocation)  \n",
    "\t4) 행렬 곱셈(Matrix Multiplication)  \n",
    "\t5) Other Basic Ops  \n",
    " 2. PyTorch Basic Tensor Manipulation  \n",
    "\t1) Vector, Matrix, Tensor  \n",
    "![title](./Tensor.png)  \n",
    "\t\t- 1D : Vector  \n",
    "\t\t- 2D : Matrix  \n",
    "\t\t\tbasic : ltl = (batch_size, dim)  \n",
    "\t\t- 3D : Tensor  \n",
    "\t\t\tCV : ltl = (batch_size, width, height)  \n",
    "\t\t\tNLP : ltl = (batch_size, length, dim)  \n",
    "\t\t- 4D  \n",
    "\t\t- 5D  \n",
    "\t\t- 6D  \n",
    "    2) numpy, PyTorch Tensor Allocation, Matrix Multiplication  \n",
    "        1_Pytorch_numpy1 참조  \n",
    "    3) Other Basic Ops  \n",
    "        1_Pytorch_numpy2 참조  \n"
   ]
  },
  {
   "cell_type": "code",
   "execution_count": null,
   "id": "74878df8",
   "metadata": {},
   "outputs": [],
   "source": [
    "● Pytorh 패키지\n",
    "    torch : numpy\n",
    "    torch.autograd : 미분함수\n",
    "    torch.nn : 신경망 구축을 위한 데이터 구조, 레이어, 활성화함수, 손실함수\n",
    "        ex. RNN, LSTM, ReLU, MSELoss\n",
    "    torch.optim : 파라미터 최적화 알고리즘\n",
    "        ex. 확률적 경사하강법(SGD)\n",
    "    torch.utils.data : 미니 배치용 유틸리티 함수\n",
    "    torch.onnx : 서로 다른 딥러닝 프레임워크간 모델 공유"
   ]
  }
 ],
 "metadata": {
  "kernelspec": {
   "display_name": "Python 3",
   "language": "python",
   "name": "python3"
  },
  "language_info": {
   "codemirror_mode": {
    "name": "ipython",
    "version": 3
   },
   "file_extension": ".py",
   "mimetype": "text/x-python",
   "name": "python",
   "nbconvert_exporter": "python",
   "pygments_lexer": "ipython3",
   "version": "3.8.8"
  }
 },
 "nbformat": 4,
 "nbformat_minor": 5
}
