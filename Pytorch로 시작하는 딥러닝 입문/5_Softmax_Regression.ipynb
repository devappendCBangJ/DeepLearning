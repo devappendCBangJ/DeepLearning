{
 "cells": [
  {
   "cell_type": "raw",
   "id": "cdba01dc",
   "metadata": {},
   "source": [
    "# 원-핫 인코딩(One-hot encoding)\n",
    "# 1. 원-핫 인코딩 정의\n",
    "    # 선택지 개수만큼의 원소차원 소유 but 자신의 인덱스에 해당하는 원소에만 1, 나머지는 0 표시\n",
    "# 2. 원-핫 인코딩 특징\n",
    "    # 정수 인코딩 : 평균제곱오차(MSE) 시 클래스간 오차 관계 다름\n",
    "    # 원핫 인코딩 : 평균제곱오차(MSE) 시 클래스간 오차 관계 같음\n",
    "# 3. 원-핫 인코딩 예시\n",
    "    # 정수 인코딩\n",
    "        # 강아지 = 0 # 강아지 : 0번 인덱스\n",
    "        # 고양이 = 1 # 고양이 : 1번 인덱스\n",
    "        # 냉장고 = 2 # 냉장고 : 2번 인덱스\n",
    "    # 원핫 인코딩\n",
    "        # 강아지 = [1, 0, 0] # 강아지 : 0번 인덱스\n",
    "        # 고양이 = [0, 1, 0] # 고양이 : 1번 인덱스\n",
    "        # 냉장고 = [0, 0, 1] # 냉장고 : 2번 인덱스\n",
    "    \n",
    "    # 정수 인코딩\n",
    "        # 냉장고를 강아지로 예측 시 MSE = (2-0)^2=4\n",
    "        # 냉장고를 고양이로 예측 시 MSE = (2-1)^2=1\n",
    "    # 원핫 인코딩\n",
    "        # 냉장고를 강아지로 예측 시 ((0, 0, 1)-(1, 0, 0))^2 = (0-1)^2 + (0-0)^2 + (1-0)^2 = 2\n",
    "        # 냉장고를 고양이로 예측 시 ((0, 0, 1)-(0, 1, 0))^2 = (0-0)^2 + (0-1)^2 + (1-0)^2 = 2"
   ]
  },
  {
   "cell_type": "raw",
   "id": "9b31be90",
   "metadata": {},
   "source": [
    "# 로지스틱 회귀 : 이진 분류(Binary Classification)\n",
    "    - 2개의 선택지(답) 중 1개 선택\n",
    "# 소프트맥스 회귀 : 다중 클래스 분류(Multi-Class Classification)\n",
    "    - 3개 이상의 선택지(답) 중 1개 선택"
   ]
  }
 ],
 "metadata": {
  "kernelspec": {
   "display_name": "Python 3",
   "language": "python",
   "name": "python3"
  },
  "language_info": {
   "codemirror_mode": {
    "name": "ipython",
    "version": 3
   },
   "file_extension": ".py",
   "mimetype": "text/x-python",
   "name": "python",
   "nbconvert_exporter": "python",
   "pygments_lexer": "ipython3",
   "version": "3.8.8"
  }
 },
 "nbformat": 4,
 "nbformat_minor": 5
}
