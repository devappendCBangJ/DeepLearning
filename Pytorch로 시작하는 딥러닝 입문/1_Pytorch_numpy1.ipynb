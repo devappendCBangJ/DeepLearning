{
 "cells": [
  {
   "cell_type": "raw",
   "id": "b2c7d20b",
   "metadata": {},
   "source": [
    "● numpy 사용 순서  \n",
    "    1. 1차원 배열 array  \n",
    "        t= np.array([원소1, 원소2, ...])  \n",
    "    1. 2차원 배열 array  \n",
    "        t= np.array([[원소1, 원소2, ...], [원소1, 원소2, ...], ...])  \n",
    "    2. 1차원 배열 슬라이싱  \n",
    "        1개 : t[인덱스]  \n",
    "        범위 : t[인덱스1:인덱스2]  \n",
    "        범위 : t[:인덱스2] or t[인덱스1:]  \n",
    "    2. 2차원 배열 슬라이싱  \n",
    "        1개~범위 : t[인덱스 범위, 인덱스 범위]  \n",
    "    3. 배열 차원 출력  \n",
    "        np.array([원소, 1원소2, ...]).ndim  \n",
    "        t.ndim  \n",
    "    3. 배열 원소 개수 출력  \n",
    "        np.array([원소, 1원소2, ...]).shape  \n",
    "        t.shape  \n",
    "\n",
    "● torch 사용 순서  \n",
    "    1. 1차원 배열 array  \n",
    "        t = torch.FloatTensor([0., 1., 2., 3., 4., 5., 6.])  \n",
    "    1. 2차원 배열 array  \n",
    "        t= torch.FloatTensor([[원소1, 원소2, ...], [원소1, 원소2, ...], ...])  \n",
    "    2. 1차원 배열 슬라이싱  \n",
    "        1개 : t[인덱스]  \n",
    "        범위 : t[인덱스1:인덱스2]  \n",
    "        범위 : t[:인덱스2] or t[인덱스1:]  \n",
    "    2. 2차원 배열 슬라이싱  \n",
    "        1개~범위 : t[인덱스 범위, 인덱스 범위]  \n",
    "    3. 행렬의 연산 ♣  \n",
    "        - matrix size 다른 경우 : 배열 자동 늘리기로 원소 복제해서 갯수 맞춰줌 ♣  \n",
    "        1) 행렬 덧셈 : m1 + m2  \n",
    "        2) 행렬 곱 : m1.matmul(m2) ♣  \n",
    "        3) 행렬 원소 곱 : m1 * m2 = m1.mul(m2) ♣  \n",
    "        4) 행렬 원소 평균 - 1차원 : t.mean() ♣  \n",
    "            행렬 원소 평균 - 2차원. 전체 원소 평균 : t.mean()  \n",
    "            행렬 원소 평균 - 2차원. 첫번째 차원(행) 제거. 열 차원 남기도록 평균 : t.mean(dim=0)  \n",
    "            행렬 원소 평균 - 2차원. 두번째 차원(열) 제거. 행 차원 남기도록 평균 : t.mean(dim=1)  \n",
    "            행렬 원소 평균 - 2차원. 마지막 차원(열) 제거. 행 차원 남기도록 평균 : t.mean(dim=-1)  \n",
    "        5) 행렬 원소 덧셈 - 1차원 : t.sum() ♣  \n",
    "            행렬 원소 덧셈 - 2차원. 전체 원소 덧셈 : t.sum()  \n",
    "            행렬 원소 덧셈 - 2차원. 첫번째 차원(행) 제거. 열 차원 남기도록 덧셈 : t.sum(dim=0)  \n",
    "            행렬 원소 덧셈 - 2차원. 두번째 차원(열) 제거. 행 차원 남기도록 덧셈 : t.sum(dim=1)  \n",
    "            행렬 원소 덧셈 - 2차원. 마지막 차원(열) 제거. 행 차원 남기도록 덧셈 : t.sum(dim=-1)  \n",
    "        6) 행렬 원소 최대값 - 1차원 : t.max() ♣  \n",
    "            행렬 원소 최대값 - 2차원. 전체 원소 최대값 : t.max()  \n",
    "            행렬 원소 최대값 - 2차원. 첫번째 차원(행) 제거. 열 차원 남기도록 최대값 : t.max(dim=0)  \n",
    "            행렬 원소 최대값 - 2차원. 두번째 차원(열) 제거. 행 차원 남기도록 최대값 : t.max(dim=1)  \n",
    "            행렬 원소 최대값 - 2차원. 마지막 차원(열) 제거. 행 차원 남기도록 최대값 : t.max(dim=-1)  \n",
    "    4. 배열 차원 출력  \n",
    "        torch.FloatTensor([원소, 1원소2, ...]).dim()  \n",
    "        t.dim()  \n",
    "    4. 배열 원소 개수 출력  \n",
    "        torch.FloatTensor([원소, 1원소2, ...]).shape  \n",
    "        torch.FloatTensor([원소, 1원소2, ...]).size()  \n",
    "        t.shape  "
   ]
  },
  {
   "cell_type": "code",
   "execution_count": 3,
   "id": "de3867c8",
   "metadata": {
    "scrolled": true
   },
   "outputs": [
    {
     "name": "stdout",
     "output_type": "stream",
     "text": [
      "Collecting torch\n",
      "  Downloading torch-1.10.1-cp38-cp38-win_amd64.whl (226.6 MB)\n",
      "Requirement already satisfied: typing-extensions in c:\\users\\bang\\anaconda\\lib\\site-packages (from torch) (3.7.4.3)\n",
      "Installing collected packages: torch\n",
      "Successfully installed torch-1.10.1\n"
     ]
    }
   ],
   "source": [
    "# !pip install torch"
   ]
  },
  {
   "cell_type": "code",
   "execution_count": 2,
   "id": "eb8df654",
   "metadata": {},
   "outputs": [],
   "source": [
    "import numpy as np\n",
    "import torch"
   ]
  },
  {
   "cell_type": "code",
   "execution_count": 3,
   "id": "8ea9dcaf",
   "metadata": {},
   "outputs": [
    {
     "name": "stdout",
     "output_type": "stream",
     "text": [
      "[0. 1. 2. 3. 4. 5. 6.]\n",
      "Rank of t :  1\n",
      "Shape of t :  (7,)\n"
     ]
    }
   ],
   "source": [
    "# 1차원 배열 numpy\n",
    "t = np.array([0., 1., 2., 3., 4., 5., 6.])\n",
    "print(t)\n",
    "# 배열 차원, 원소 개수\n",
    "print('Rank of t : ', t.ndim)\n",
    "print('Shape of t : ', t.shape)"
   ]
  },
  {
   "cell_type": "code",
   "execution_count": 4,
   "id": "c1aba695",
   "metadata": {},
   "outputs": [
    {
     "name": "stdout",
     "output_type": "stream",
     "text": [
      "t[0] t[1] t[-1] =  0.0 1.0 6.0\n",
      "t[2:5] t[4:-1] =  [2. 3. 4.] [4. 5.]\n",
      "t[:2] t[3:] =  [0. 1.] [3. 4. 5. 6.]\n"
     ]
    }
   ],
   "source": [
    "# 1차원 배열 슬라이싱\n",
    "print('t[0] t[1] t[-1] = ', t[0], t[1], t[-1])\n",
    "print('t[2:5] t[4:-1] = ', t[2:5], t[4:-1])\n",
    "print('t[:2] t[3:] = ', t[:2], t[3:])"
   ]
  },
  {
   "cell_type": "code",
   "execution_count": 22,
   "id": "7f7f1fad",
   "metadata": {},
   "outputs": [
    {
     "name": "stdout",
     "output_type": "stream",
     "text": [
      "[[ 1.  2.  3.]\n",
      " [ 4.  5.  6.]\n",
      " [ 7.  8.  9.]\n",
      " [10. 11. 12.]]\n",
      "Rank of t :  2\n",
      "Shape of t :  (4, 3)\n"
     ]
    }
   ],
   "source": [
    "# 2차원 배열 numpy\n",
    "t = np.array([[1., 2., 3.], [4., 5., 6.], [7., 8., 9.], [10., 11., 12.]])\n",
    "print(t)\n",
    "# 배열 차원 ,원소 개수\n",
    "print('Rank of t : ', t.ndim)\n",
    "print('Shape of t : ', t.shape)"
   ]
  },
  {
   "cell_type": "code",
   "execution_count": 28,
   "id": "0c48f014",
   "metadata": {},
   "outputs": [
    {
     "name": "stdout",
     "output_type": "stream",
     "text": [
      "[ 2.  5.  8. 11.]\n",
      "[[ 1.  2.]\n",
      " [ 4.  5.]\n",
      " [ 7.  8.]\n",
      " [10. 11.]]\n"
     ]
    }
   ],
   "source": [
    "# 2차원 배열 슬라이싱\n",
    "print(t[:, 1])\n",
    "print(t[:, :-1])"
   ]
  },
  {
   "cell_type": "code",
   "execution_count": 7,
   "id": "b82a0765",
   "metadata": {},
   "outputs": [
    {
     "name": "stdout",
     "output_type": "stream",
     "text": [
      "tensor([0., 1., 2., 3., 4., 5., 6.])\n",
      "1\n",
      "torch.Size([7])\n",
      "torch.Size([7])\n"
     ]
    }
   ],
   "source": [
    "# 1차원 배열 torch\n",
    "t = torch.FloatTensor([0., 1., 2., 3., 4., 5., 6.])\n",
    "print(t)\n",
    "# 배열 차원 ,원소 개수\n",
    "print(t.dim())\n",
    "print(t.shape)\n",
    "print(t.size())"
   ]
  },
  {
   "cell_type": "code",
   "execution_count": 8,
   "id": "0f2fceb6",
   "metadata": {},
   "outputs": [
    {
     "name": "stdout",
     "output_type": "stream",
     "text": [
      "tensor(0.) tensor(1.) tensor(6.)\n",
      "tensor([2., 3., 4.]) tensor([4., 5.])\n",
      "tensor([0., 1.]) tensor([3., 4., 5., 6.])\n"
     ]
    }
   ],
   "source": [
    "# 1차원 배열 슬라이싱\n",
    "print(t[0], t[1], t[-1])\n",
    "print(t[2:5], t[4:-1])\n",
    "print(t[:2], t[3:])"
   ]
  },
  {
   "cell_type": "code",
   "execution_count": 9,
   "id": "8a57210e",
   "metadata": {},
   "outputs": [
    {
     "name": "stdout",
     "output_type": "stream",
     "text": [
      "tensor([[ 1.,  2.,  3.],\n",
      "        [ 4.,  5.,  6.],\n",
      "        [ 7.,  8.,  9.],\n",
      "        [10., 11., 12.]])\n",
      "2\n",
      "torch.Size([4, 3])\n"
     ]
    }
   ],
   "source": [
    "# 2차원 배열 torch\n",
    "t = torch.FloatTensor([[1., 2., 3.], [4., 5., 6.], [7., 8., 9.], [10., 11., 12.]])\n",
    "print(t)\n",
    "# 배열 차원, 원소 개수\n",
    "print(t.dim())\n",
    "print(t.size())"
   ]
  },
  {
   "cell_type": "code",
   "execution_count": 10,
   "id": "55005c38",
   "metadata": {},
   "outputs": [
    {
     "name": "stdout",
     "output_type": "stream",
     "text": [
      "tensor([ 2.,  5.,  8., 11.])\n",
      "torch.Size([4])\n",
      "tensor([[ 1.,  2.],\n",
      "        [ 4.,  5.],\n",
      "        [ 7.,  8.],\n",
      "        [10., 11.]])\n"
     ]
    }
   ],
   "source": [
    "# 2차원 배열 슬라이싱\n",
    "print(t[:, 1])\n",
    "print(t[:, 1].size())\n",
    "print(t[:, :-1])"
   ]
  },
  {
   "cell_type": "code",
   "execution_count": 11,
   "id": "4148ff97",
   "metadata": {},
   "outputs": [
    {
     "name": "stdout",
     "output_type": "stream",
     "text": [
      "tensor([[5., 5.]])\n"
     ]
    }
   ],
   "source": [
    "# 행렬 덧셈 - 같은 차원, 같은 원소 갯수 배열 연산\n",
    "m1 = torch.FloatTensor([[3, 3]])\n",
    "m2 = torch.FloatTensor([[2, 2]])\n",
    "print(m1 + m2)"
   ]
  },
  {
   "cell_type": "code",
   "execution_count": 12,
   "id": "a3416df7",
   "metadata": {},
   "outputs": [
    {
     "name": "stdout",
     "output_type": "stream",
     "text": [
      "tensor([[4., 5.]])\n",
      "tensor([[4., 5.],\n",
      "        [5., 6.]])\n"
     ]
    }
   ],
   "source": [
    "# 행렬 덧셈 - 다른 차원, 다른 원소 갯수 배열 연산\n",
    "m1 = torch.FloatTensor([[1, 2]])\n",
    "m2 = torch.FloatTensor([[3]]) # 차원을 2x1로 늘려줌 >> 3, 3\n",
    "print(m1 + m2)\n",
    "\n",
    "m1 = torch.FloatTensor([[1, 2]]) # 차원을 2x2로 늘려줌 >> 1, 2, 1, 2\n",
    "m2 = torch.FloatTensor([[3], [4]]) # 차원을 2x2로 늘려줌 >> 3, 4, 3, 4\n",
    "print(m1 + m2)"
   ]
  },
  {
   "cell_type": "code",
   "execution_count": 17,
   "id": "9e35f681",
   "metadata": {},
   "outputs": [
    {
     "name": "stdout",
     "output_type": "stream",
     "text": [
      "Shape of Matrix 1 :  torch.Size([2, 2])\n",
      "Shape of Matrix 2 :  torch.Size([2, 1])\n",
      "tensor([[ 5.],\n",
      "        [11.]])\n",
      "Shape of Matrix 1 :  torch.Size([2, 2])\n",
      "Shape of Matrix 2 :  torch.Size([2, 1])\n",
      "tensor([[1., 2.],\n",
      "        [6., 8.]])\n",
      "tensor([[1., 2.],\n",
      "        [6., 8.]])\n"
     ]
    }
   ],
   "source": [
    "# 행렬 곱\n",
    "m1 = torch.FloatTensor([[1, 2], [3, 4]])\n",
    "m2 = torch.FloatTensor([[1], [2]])\n",
    "print('Shape of Matrix 1 : ', m1.shape) # 2x2\n",
    "print('Shape of Matrix 2 : ', m2.shape) # 2x1\n",
    "print(m1.matmul(m2)) # 2x1\n",
    "# 행렬 원소 곱\n",
    "m1 = torch.FloatTensor([[1, 2], [3, 4]])\n",
    "m2 = torch.FloatTensor([[1], [2]])\n",
    "print('Shape of Matrix 1 : ', m1.shape) # 2x2\n",
    "print('Shape of Matrix 2 : ', m2.shape) # 2x1\n",
    "print(m1 * m2)\n",
    "print(m1.mul(m2))"
   ]
  },
  {
   "cell_type": "code",
   "execution_count": 19,
   "id": "f112d3fb",
   "metadata": {},
   "outputs": [
    {
     "name": "stdout",
     "output_type": "stream",
     "text": [
      "tensor(1.5000)\n",
      "tensor([[1., 2.],\n",
      "        [3., 4.]])\n",
      "tensor(2.5000)\n",
      "tensor([2., 3.])\n",
      "tensor([1.5000, 3.5000])\n",
      "tensor([1.5000, 3.5000])\n",
      "mean(): input dtype should be either floating point or complex dtypes. Got Long instead.\n"
     ]
    }
   ],
   "source": [
    "# 행렬 원소 평균 - 1차원\n",
    "t = torch.FloatTensor([1, 2])\n",
    "print(t.mean())\n",
    "# 행렬 원소 평균 - 2차원\n",
    "t = torch.FloatTensor([[1, 2], [3, 4]])\n",
    "print(t)\n",
    "print(t.mean())\n",
    "print(t.mean(dim=0)) # 행렬에서 첫번째 차원(행) 제거. 열의 차원은 유지\n",
    "print(t.mean(dim=1)) # 행렬에서 두번째 차원(열) 제거. 행의 차원은 유지\n",
    "print(t.mean(dim=-1)) # 행렬에서 마지막 차원(열) 제거. 행의 차원은 유지\n",
    "# 행렬 원소 평균 오류\n",
    "t = torch.LongTensor([1, 2])\n",
    "try:\n",
    "    print(t.mean())\n",
    "except Exception as exc:\n",
    "    print(exc)"
   ]
  },
  {
   "cell_type": "code",
   "execution_count": 20,
   "id": "ec3b2f01",
   "metadata": {},
   "outputs": [
    {
     "name": "stdout",
     "output_type": "stream",
     "text": [
      "tensor([[1., 2.],\n",
      "        [3., 4.]])\n",
      "tensor(10.)\n",
      "tensor([4., 6.])\n",
      "tensor([3., 7.])\n",
      "tensor([3., 7.])\n"
     ]
    }
   ],
   "source": [
    "# 행렬 원소 덧셈 - 1차원\n",
    "t = torch.FloatTensor([[1, 2], [3, 4]])\n",
    "print(t)\n",
    "print(t.sum())\n",
    "# 행렬 원소 덧셈 - 2차원\n",
    "print(t.sum(dim=0))\n",
    "print(t.sum(dim=1))\n",
    "print(t.sum(dim=-1))"
   ]
  },
  {
   "cell_type": "code",
   "execution_count": 21,
   "id": "ef294719",
   "metadata": {},
   "outputs": [
    {
     "name": "stdout",
     "output_type": "stream",
     "text": [
      "tensor([[1., 2.],\n",
      "        [3., 4.]])\n",
      "tensor(4.)\n",
      "torch.return_types.max(\n",
      "values=tensor([3., 4.]),\n",
      "indices=tensor([1, 1]))\n",
      "torch.return_types.max(\n",
      "values=tensor([2., 4.]),\n",
      "indices=tensor([1, 1]))\n",
      "torch.return_types.max(\n",
      "values=tensor([2., 4.]),\n",
      "indices=tensor([1, 1]))\n"
     ]
    }
   ],
   "source": [
    "# 행렬 원소 최대값 - 1차원\n",
    "t = torch.FloatTensor([[1, 2], [3, 4]])\n",
    "print(t)\n",
    "print(t.max())\n",
    "# 행렬 원소 최대값 - 2차원\n",
    "print(t.max(dim=0))\n",
    "print(t.max(dim=1))\n",
    "print(t.max(dim=-1))"
   ]
  }
 ],
 "metadata": {
  "kernelspec": {
   "display_name": "Python 3",
   "language": "python",
   "name": "python3"
  },
  "language_info": {
   "codemirror_mode": {
    "name": "ipython",
    "version": 3
   },
   "file_extension": ".py",
   "mimetype": "text/x-python",
   "name": "python",
   "nbconvert_exporter": "python",
   "pygments_lexer": "ipython3",
   "version": "3.8.8"
  }
 },
 "nbformat": 4,
 "nbformat_minor": 5
}
