{
 "cells": [
  {
   "cell_type": "raw",
   "id": "74bfd004",
   "metadata": {},
   "source": [
    "● numpy 사용 순서\n",
    "    1. 1차원 배열 array\n",
    "        t= np.array([원소1, 원소2, ...])\n",
    "    1. 2차원 배열 array\n",
    "        t= np.array([[원소1, 원소2, ...], [원소1, 원소2, ...], ...])\n",
    "    2. 1차원 배열 슬라이싱\n",
    "        1개 : t[인덱스]\n",
    "        범위 : t[인덱스1:인덱스2]\n",
    "        범위 : t[:인덱스2] or t[인덱스1:]\n",
    "    2. 2차원 배열 슬라이싱\n",
    "        1개~범위 : t[인덱스 범위, 인덱스 범위]\n",
    "    3. 배열 차원 출력\n",
    "        np.array([원소, 1원소2, ...]).ndim\n",
    "        t.ndim\n",
    "    3. 배열 원소 개수 출력\n",
    "        np.array([원소, 1원소2, ...]).shape\n",
    "        t.shape\n",
    "\n",
    "● torch 사용 순서\n",
    "    1. 1차원 배열 array\n",
    "        byte형 : bt = torch.ByteTensor([True, False, False, True])\n",
    "        long형 : lt = torch.LongTensor([1, 2, 3, 4])\n",
    "        float형 : ft = torch.FloatTensor([0., 1., 2., 3., 4.])\n",
    "    1. 2차원 배열 array\n",
    "        bt= torch.ByteTensor([[원소1, 원소2, ...], [원소1, 원소2, ...], ...])\n",
    "        lt= torch.LongTensor([[원소1, 원소2, ...], [원소1, 원소2, ...], ...])\n",
    "        ft= torch.FloatTensor([[원소1, 원소2, ...], [원소1, 원소2, ...], ...])\n",
    "    2. 1차원 배열 슬라이싱\n",
    "        1개 : t[인덱스]\n",
    "        범위 : t[인덱스1:인덱스2]\n",
    "        범위 : t[:인덱스2] or t[인덱스1:]\n",
    "    2. 2차원 배열 슬라이싱\n",
    "        1개~범위 : t[인덱스 범위, 인덱스 범위]\n",
    "    3. 행렬 생성(Ones, Zeros) ♣\n",
    "        t와 같은 크기 0 행렬 : torch.ones_like(t)\n",
    "        t와 같은 크기 1 행렬 : torch.zeros_like(t)\n",
    "    3. 행렬의 연산 ♣\n",
    "        - matrix size 다른 경우 : 배열 자동 늘리기로 원소 복제해서 갯수 맞춰줌 ♣\n",
    "        1) 행렬 덧셈 : m1 + m2\n",
    "        2) 행렬 곱 : m1.matmul(m2) ♣\n",
    "        3) 행렬 원소 곱 : m1 * m2 = m1.mul(m2) ♣\n",
    "        3) 행렬 원소 곱 이후 기억 : m1.mul_(m2) ♣ In-place Operation 속도 향상\n",
    "        4) 행렬 원소 평균 - 1차원 : t.mean() ♣\n",
    "            행렬 원소 평균 - 2차원\n",
    "                전체 원소 평균 : t.mean()\n",
    "                행차원끼리 평균 : t.mean(dim=0)\n",
    "                열차원끼리 평균 : t.mean(dim=1)\n",
    "                마지막차원끼리 평균 : t.mean(dim=-1)\n",
    "        5) 행렬 원소 덧셈 - 1차원 : t.sum() ♣\n",
    "            행렬 원소 덧셈 - 2차원\n",
    "                전체 원소 덧셈 : t.sum()\n",
    "                행차원끼리 평균 : t.sum(dim=0)\n",
    "                열차원끼리 평균 : t.sum(dim=1)\n",
    "                마지막차원끼리 평균 : t.sum(dim=-1)\n",
    "        6) 행렬 원소 최대값 - 1차원 : t.max() ♣\n",
    "            행렬 원소 최대값 - 2차원\n",
    "                전체 원소 최대값 : t.max()\n",
    "                행차원끼리 평균 : t.max(dim=0)\n",
    "                열차원끼리 평균 : t.max(dim=1)\n",
    "                마지막 차원끼리 평균 : t.max(dim=-1)\n",
    "                - 첫 번째 차원 = 행 = 0\n",
    "                - 두 번째 차원 = 열 = 1\n",
    "                - 마지막 차원 = 열 = -1\n",
    "    4. 행렬 변환\n",
    "        1) 행렬 numpy >> pytorch 변환 : \n",
    "            t = np.array([인덱스 범위])\n",
    "            ft = torch.FloatTensor(t)\n",
    "        2) 행렬 차원 변환 - 2차원 : ♣\n",
    "            torch.FloatTensor(np.array([인덱스 범위])).view([행, 열])\n",
    "            ft.view([행, 열])\n",
    "            - 깊이x행x열 = 일정 ♣\n",
    "        2) 행렬 차원 변환 - 3차원 : \n",
    "            torch.FloatTensor(np.array([인덱스 범위])).view([깊이, 행, 열])\n",
    "            ft.view([깊이, 행, 열])\n",
    "            - 깊이x행x열 = 일정 ♣\n",
    "        2) 행렬 차원 변환 - (해당 dim에 1인 차원 제거) : ♣\n",
    "            torch.FloatTensor(np.array([인덱스 범위])).squeeze()\n",
    "            torch.FloatTensor(np.array([인덱스 범위])).squeeze(dim)\n",
    "            ft.squeeze(dim)\n",
    "        3) 행렬 차원 변환 - (해당 dim에 1인 차원 추가) : ♣\n",
    "            torch.FloatTensor(np.array([인덱스 범위])).unsqueeze(dim)\n",
    "            ft.unsqueeze(dim)\n",
    "            - 첫 번째 차원 = 행 = 0\n",
    "            - 두 번째 차원 = 열 = 1\n",
    "            - 마지막 차원 = 열 = -1\n",
    "    5. 행렬 자료형 변환 ♣\n",
    "        byte 변환 : t.byte()\n",
    "        long 변환 : t.long()\n",
    "        float 변환 : t.float()\n",
    "    6. 행렬 연쇄 ♣\n",
    "        행 차원에 연쇄 : torch.cat([x, y], dim=0)\n",
    "        열 차원에 연쇄 : torch.cat([x, y], dim=1)\n",
    "        마지막 차원에 연쇄 : torch.cat([x, y], dim=-1)\n",
    "        - 첫 번째 차원 = 행 = 0\n",
    "        - 두 번째 차원 = 열 = 1\n",
    "        - 마지막 차원 = 열 = -1\n",
    "    7. 행렬 스택 ♣\n",
    "        행 차원에 연쇄 : torch.stack([x,y,z])\n",
    "        행 차원에 연쇄 : torch.stack([x,y,z], dim = 0)\n",
    "        행 차원에 연쇄 + 전치 : torch.stack([x,y,z], dim = 1)\n",
    "        마지막 차원에 스택 : torch.stack([x, y, z], dim=-1)\n",
    "        - 첫 번째 차원 = 행 = 0\n",
    "        - 두 번째 차원 = 열 = 1\n",
    "        - 마지막 차원 = 열 = -1\n",
    "    8. 배열 차원 출력\n",
    "        torch.FloatTensor([원소, 1원소2, ...]).dim()\n",
    "        t.dim()\n",
    "    8. 배열 원소 개수 출력\n",
    "        torch.FloatTensor([원소, 1원소2, ...]).shape\n",
    "        torch.FloatTensor([원소, 1원소2, ...]).size()\n",
    "        t.shape"
   ]
  },
  {
   "cell_type": "code",
   "execution_count": 6,
   "id": "f7fa1616",
   "metadata": {},
   "outputs": [],
   "source": [
    "import numpy as np\n",
    "import torch"
   ]
  },
  {
   "cell_type": "code",
   "execution_count": 7,
   "id": "9139d508",
   "metadata": {},
   "outputs": [
    {
     "name": "stdout",
     "output_type": "stream",
     "text": [
      "tensor([[[ 0.,  1.,  2.],\n",
      "         [ 3.,  4.,  5.]],\n",
      "\n",
      "        [[ 6.,  7.,  8.],\n",
      "         [ 9., 10., 11.]]])\n",
      "torch.Size([2, 2, 3])\n",
      "tensor([[ 0.,  1.,  2.],\n",
      "        [ 3.,  4.,  5.],\n",
      "        [ 6.,  7.,  8.],\n",
      "        [ 9., 10., 11.]])\n",
      "torch.Size([4, 3])\n",
      "tensor([[[ 0.,  1.,  2.]],\n",
      "\n",
      "        [[ 3.,  4.,  5.]],\n",
      "\n",
      "        [[ 6.,  7.,  8.]],\n",
      "\n",
      "        [[ 9., 10., 11.]]])\n",
      "torch.Size([4, 1, 3])\n"
     ]
    }
   ],
   "source": [
    "# numpy >> pytorch 변환\n",
    "t = np.array([[[0, 1, 2], [3, 4, 5]], [[6, 7, 8], [9, 10, 11]]])\n",
    "ft = torch.FloatTensor(t)\n",
    "print(ft)\n",
    "print(ft.shape)\n",
    "# 행렬 변환 - 2차원 ♣\n",
    "print(ft.view([-1, 3]))\n",
    "print(ft.view([-1, 3]).shape)\n",
    "# 행렬 변환 - 3차원 ♣\n",
    "print(ft.view([-1, 1, 3]))\n",
    "print(ft.view([-1, 1, 3]).shape)"
   ]
  },
  {
   "cell_type": "code",
   "execution_count": 8,
   "id": "413a6422",
   "metadata": {},
   "outputs": [
    {
     "name": "stdout",
     "output_type": "stream",
     "text": [
      "tensor([[0.],\n",
      "        [1.],\n",
      "        [2.]])\n",
      "torch.Size([3, 1])\n",
      "tensor([0., 1., 2.])\n",
      "torch.Size([3])\n"
     ]
    }
   ],
   "source": [
    "ft = torch.FloatTensor([[0], [1], [2]])\n",
    "print(ft)\n",
    "print(ft.shape)\n",
    "# 행렬 변환 - (해당 dim에 1인 차원 제거) ♣\n",
    "print(ft.squeeze())\n",
    "print(ft.squeeze().shape)"
   ]
  },
  {
   "cell_type": "code",
   "execution_count": 9,
   "id": "30d96411",
   "metadata": {},
   "outputs": [
    {
     "name": "stdout",
     "output_type": "stream",
     "text": [
      "tensor([0., 1., 2.])\n",
      "torch.Size([3])\n",
      "tensor([[0., 1., 2.]])\n",
      "torch.Size([1, 3])\n",
      "tensor([[0., 1., 2.]])\n",
      "torch.Size([1, 3])\n",
      "tensor([[0.],\n",
      "        [1.],\n",
      "        [2.]])\n",
      "torch.Size([3, 1])\n",
      "tensor([[0.],\n",
      "        [1.],\n",
      "        [2.]])\n",
      "torch.Size([3, 1])\n"
     ]
    }
   ],
   "source": [
    "ft = torch.FloatTensor([0, 1, 2])\n",
    "print(ft)\n",
    "print(ft.shape)\n",
    "# 행렬 변환 - (해당 dim에 1인 차원 추가) ♣\n",
    "print(ft.unsqueeze(0))\n",
    "print(ft.unsqueeze(0).shape)\n",
    "# 행렬 변환 - 2차원 ♣\n",
    "print(ft.view(1, -1))\n",
    "print(ft.view(1, -1).shape)\n",
    "# 행렬 변환 - (해당 dim에 1인 차원 추가) ♣\n",
    "print(ft.unsqueeze(1))\n",
    "print(ft.unsqueeze(1).shape)\n",
    "# 행렬 변환 - (해당 dim에 1인 차원 추가) ♣\n",
    "print(ft.unsqueeze(-1))\n",
    "print(ft.unsqueeze(-1).shape)"
   ]
  },
  {
   "cell_type": "code",
   "execution_count": 10,
   "id": "1bfff5ad",
   "metadata": {},
   "outputs": [
    {
     "name": "stdout",
     "output_type": "stream",
     "text": [
      "tensor([1, 2, 3, 4])\n",
      "tensor([1., 2., 3., 4.])\n",
      "tensor([1, 0, 0, 1], dtype=torch.uint8)\n",
      "tensor([1, 0, 0, 1])\n",
      "tensor([1., 0., 0., 1.])\n"
     ]
    }
   ],
   "source": [
    "lt = torch.LongTensor([1, 2, 3, 4])\n",
    "print(lt)\n",
    "# 행렬 자료형 변환\n",
    "print(lt.float())\n",
    "\n",
    "bt = torch.ByteTensor([True, False, False, True])\n",
    "print(bt)\n",
    "# 행렬 자료형 변환\n",
    "print(bt.long())\n",
    "print(bt.float())"
   ]
  },
  {
   "cell_type": "code",
   "execution_count": 11,
   "id": "b9b3384d",
   "metadata": {},
   "outputs": [
    {
     "name": "stdout",
     "output_type": "stream",
     "text": [
      "tensor([[1., 2.],\n",
      "        [3., 4.],\n",
      "        [5., 6.],\n",
      "        [7., 8.]])\n",
      "tensor([[1., 2., 5., 6.],\n",
      "        [3., 4., 7., 8.]])\n"
     ]
    }
   ],
   "source": [
    "x = torch.FloatTensor([[1, 2],[3, 4]])\n",
    "y = torch.FloatTensor([[5, 6],[7, 8]])\n",
    "# 행렬 연쇄\n",
    "print(torch.cat([x, y], dim=0))\n",
    "print(torch.cat([x, y], dim=1))"
   ]
  },
  {
   "cell_type": "code",
   "execution_count": 12,
   "id": "25436f03",
   "metadata": {},
   "outputs": [
    {
     "name": "stdout",
     "output_type": "stream",
     "text": [
      "tensor([[1., 4.],\n",
      "        [2., 5.],\n",
      "        [3., 6.]])\n",
      "tensor([[1., 2., 3.],\n",
      "        [4., 5., 6.]])\n",
      "tensor([[1., 4.],\n",
      "        [2., 5.],\n",
      "        [3., 6.]])\n"
     ]
    }
   ],
   "source": [
    "x = torch.FloatTensor([1, 4])\n",
    "y = torch.FloatTensor([2, 5])\n",
    "z = torch.FloatTensor([3, 6])\n",
    "# 행렬 스택\n",
    "print(torch.stack([x,y,z]))\n",
    "print(torch.stack([x,y,z], dim = 1))\n",
    "# 행렬 연쇄로 구현\n",
    "print(torch.cat([x.unsqueeze(0), y.unsqueeze(0), z.unsqueeze(0)], dim=0)) # ♣"
   ]
  },
  {
   "cell_type": "code",
   "execution_count": 13,
   "id": "29a3325e",
   "metadata": {},
   "outputs": [
    {
     "name": "stdout",
     "output_type": "stream",
     "text": [
      "tensor([[0., 1., 2.],\n",
      "        [2., 1., 0.]])\n",
      "tensor([[1., 1., 1.],\n",
      "        [1., 1., 1.]])\n",
      "tensor([[0., 0., 0.],\n",
      "        [0., 0., 0.]])\n"
     ]
    }
   ],
   "source": [
    "x = torch.FloatTensor([[0, 1, 2], [2, 1, 0]])\n",
    "print(x)\n",
    "# Ones, Zeros\n",
    "print(torch.ones_like(x))\n",
    "print(torch.zeros_like(x))"
   ]
  },
  {
   "cell_type": "code",
   "execution_count": 14,
   "id": "d1618dd7",
   "metadata": {},
   "outputs": [
    {
     "name": "stdout",
     "output_type": "stream",
     "text": [
      "tensor([[2., 4.],\n",
      "        [6., 8.]])\n",
      "tensor([[1., 2.],\n",
      "        [3., 4.]])\n",
      "tensor([[2., 4.],\n",
      "        [6., 8.]])\n",
      "tensor([[2., 4.],\n",
      "        [6., 8.]])\n"
     ]
    }
   ],
   "source": [
    "x = torch.FloatTensor([[1, 2], [3, 4]])\n",
    "print(x.mul(2.))\n",
    "print(x)\n",
    "print(x.mul_(2.))\n",
    "print(x)"
   ]
  }
 ],
 "metadata": {
  "kernelspec": {
   "display_name": "Python 3",
   "language": "python",
   "name": "python3"
  },
  "language_info": {
   "codemirror_mode": {
    "name": "ipython",
    "version": 3
   },
   "file_extension": ".py",
   "mimetype": "text/x-python",
   "name": "python",
   "nbconvert_exporter": "python",
   "pygments_lexer": "ipython3",
   "version": "3.8.8"
  }
 },
 "nbformat": 4,
 "nbformat_minor": 5
}
