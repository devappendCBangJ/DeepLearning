{
 "cells": [
  {
   "cell_type": "markdown",
   "id": "8da07a85",
   "metadata": {},
   "source": [
    "Pytorch 공부 사이트 : https://wikidocs.net/52460  \n",
    "\n",
    " 1. 목차  \n",
    "\t1) 데이터 정의(Data definition)  \n",
    "\t2) 모델 가정(Hypothesis)  \n",
    "\t3) 손실 측정(Compute loss)  \n",
    "    4) 최적화(Optimize)  \n",
    "    5) 결과 출력  \n",
    "\t6) 경사 하강법(Gradient Descent)  \n",
    "    7) 단일변수 선형회귀(SimpleLinear Regression)  \n",
    " 2. 단일변수 선형회귀(SimpleLinear Regression) : 1개의 데이터 다룸  \n",
    "    1) 데이터 정의(Data definition)  \n",
    "<img src=\"./Data_definition.png\" width=\"200\" height=\"200\">  \n",
    "        (1) Traing dataset정의  \n",
    "            - 입력 : x_train = torch.FloatTensor([인덱스 범위])  \n",
    "            - 출력 : y_train = torch.FloatTensor([인덱스 범위])  \n",
    "        (2) Test dataset정의  \n",
    "            - 입력 : x_test =  \n",
    "            - 출력 : y_test =  \n",
    "    2) 모델 가정(Hypothesis)  \n",
    "<img src=\"./Hypothesis.png\" width=\"300\" height=\"300\">  \n",
    "        (1) # 모델 가정(Hypothesis) 초기화  \n",
    "            W = torch.zeros(1, requires_grad = True) ♣  \n",
    "            b = torch.zeros(1, requires_grad = True) ♣  \n",
    "            - 1 : 입력 차원  \n",
    "            - requires_grad=True : 학습할 것임을 명시  \n",
    "            \n",
    "            if. 함수 사용 안할 때 ♣  \n",
    "            W = torch.zeros(1)  \n",
    "            lr = 0.1  \n",
    "        (2) 모델 가정(Hypothesis) 예측  \n",
    "            hypothesis = W * x_train + b  \n",
    "            - W : weight  \n",
    "            - b : Bias  \n",
    "            \n",
    "            if. 함수 사용 안할 때 ♣  \n",
    "            hypothesis = W * x_train  \n",
    "    3) 손실 측정(Compute loss)  \n",
    "<img src=\"./Compute_loss.png\" width=\"400\" height=\"400\">  \n",
    "        (2) 손실 측정(Compute loss) 계산  \n",
    "            Mean Squared Error(MSE) = cost(W, b) = torch.mean((hypothesis - y_train) ** 2)  \n",
    "            \n",
    "            if. 함수 사용 안할 때 ♣  \n",
    "            따로 계산x\n",
    "    4) 최적화(Optimize)  \n",
    "        (1) 최적화(Optimize) 설정 : optimizer = torch.optim.옵티마이저 종류([학습시킬 변수], lr=학습률) ♣  \n",
    "            - 확률적 경사하강법 : optimizer = torch.optim.SGD([W, b], lr=0.01) ♣  \n",
    "<img src=\"./Gradient_Descent.png\" width=\"400\" height=\"400\">  \n",
    "<img src=\"./Gradient_Descent2.png\" width=\"400\" height=\"400\">  \n",
    "        (2) 최적화(Optimize)를 통한 학습  \n",
    "            - gradient 초기화 : optimizer.zero_grad() ♣  \n",
    "            - cost함수 미분 = cost가 감소하는 부분 = gradient 계산 : cost.backward() ♣  \n",
    "            - W, b 업데이트 : optimizer.step() ♣  \n",
    "            \n",
    "            if. 함수 사용 안할 때 ♣  \n",
    "            gradient = torch.sum((W * x_train - y_train) * x_train)  \n",
    "            W -= lr * gradient  \n",
    "\n",
    "    - (2)는 for epoch in range(nb_epochs)로 돌림  \n",
    "    5) 결과 출력  \n",
    "        print('Epoch {:4d}/{}, W : {:.3f}, Cost : {:.6f}'.format(epoch, nb_epochs, W.item(), cost.item())) ♣  \n",
    "    6) 딥러닝 목적  \n",
    "        - 최적 W, b 탐색  \n",
    "        - Cost 최소화  "
   ]
  },
  {
   "cell_type": "code",
   "execution_count": 1,
   "id": "0a2843ef",
   "metadata": {},
   "outputs": [],
   "source": [
    "import numpy as np\n",
    "import torch"
   ]
  },
  {
   "cell_type": "code",
   "execution_count": 2,
   "id": "a95367ca",
   "metadata": {},
   "outputs": [
    {
     "name": "stdout",
     "output_type": "stream",
     "text": [
      "tensor([[1.],\n",
      "        [2.],\n",
      "        [3.]])\n",
      "tensor([[2.],\n",
      "        [4.],\n",
      "        [6.]])\n"
     ]
    }
   ],
   "source": [
    "# 1) 데이터 정의(Data definition)\n",
    "x_train = torch.FloatTensor([[1], [2], [3]])\n",
    "y_train = torch.FloatTensor([[2], [4], [6]])\n",
    "print(x_train)\n",
    "print(y_train)"
   ]
  },
  {
   "cell_type": "code",
   "execution_count": 3,
   "id": "0d24f9e0",
   "metadata": {},
   "outputs": [
    {
     "name": "stdout",
     "output_type": "stream",
     "text": [
      "tensor([0.], requires_grad=True)\n",
      "tensor([0.], requires_grad=True)\n",
      "tensor([[0.],\n",
      "        [0.],\n",
      "        [0.]], grad_fn=<AddBackward0>)\n"
     ]
    }
   ],
   "source": [
    "# 2) 모델 가정(Hypothesis)\n",
    "W = torch.zeros(1, requires_grad=True) # requires_grad=True : 학습할 것임을 명시\n",
    "b = torch.zeros(1, requires_grad=True) # requires_grad=True : 학습할 것임을 명시\n",
    "hypothesis = W * x_train + b\n",
    "print(W)\n",
    "print(b)\n",
    "print(hypothesis)"
   ]
  },
  {
   "cell_type": "code",
   "execution_count": 5,
   "id": "e146f658",
   "metadata": {},
   "outputs": [
    {
     "name": "stdout",
     "output_type": "stream",
     "text": [
      "tensor(18.6667, grad_fn=<MeanBackward0>)\n"
     ]
    }
   ],
   "source": [
    "# 3) 손실 측정(Compute loss)\n",
    "cost = torch.mean((hypothesis - y_train)**2)\n",
    "print(cost)\n",
    "\n",
    "# 4) 최적화(Optimize)\n",
    "optimizer = torch.optim.SGD([W, b], lr=0.01)\n",
    "optimizer.zero_grad()\n",
    "cost.backward()\n",
    "optimizer.step()"
   ]
  },
  {
   "cell_type": "code",
   "execution_count": 15,
   "id": "30001e67",
   "metadata": {},
   "outputs": [
    {
     "name": "stdout",
     "output_type": "stream",
     "text": [
      "tensor([1.9708], requires_grad=True)\n",
      "tensor([0.0664], requires_grad=True)\n"
     ]
    }
   ],
   "source": [
    "# 전체 코드\n",
    "\n",
    "# 1) 데이터 정의(Data definition)\n",
    "x_train = torch.FloatTensor([[1], [2], [3]])\n",
    "y_train = torch.FloatTensor([[2], [4], [6]])\n",
    "\n",
    "# 2) 모델 가정(Hypothesis) 초기화\n",
    "W = torch.zeros(1, requires_grad=True) # requires_grad=True : 학습할 것임을 명시\n",
    "b = torch.zeros(1, requires_grad=True) # requires_grad=True : 학습할 것임을 명시\n",
    "\n",
    "# 3) 최적화(Optimize) 정의\n",
    "optimizer = torch.optim.SGD([W, b], lr=0.01)\n",
    "\n",
    "nb_epochs = 1000\n",
    "for epoch in range(1, nb_epochs + 1):\n",
    "    # 4) 모델 가정(Hypothesis) 예측\n",
    "    hypothesis = W * x_train + b\n",
    "    # 5) 손실 측정(Compute loss) 계산\n",
    "    cost = torch.mean((hypothesis - y_train) ** 2)\n",
    "    \n",
    "    # 6) 최적화(Optimize) 학습\n",
    "    optimizer.zero_grad()\n",
    "    cost.backward() # cost함수 미분 ♣\n",
    "    optimizer.step() # W, b 업데이트 ♣\n",
    "print(W)\n",
    "print(b)"
   ]
  },
  {
   "cell_type": "code",
   "execution_count": 16,
   "id": "d85e6b44",
   "metadata": {},
   "outputs": [
    {
     "name": "stdout",
     "output_type": "stream",
     "text": [
      "Epoch    0/10 W: 0.000, Cost : 4.666667\n",
      "Epoch    1/10 W: 1.400, Cost : 0.746666\n",
      "Epoch    2/10 W: 0.840, Cost : 0.119467\n",
      "Epoch    3/10 W: 1.064, Cost : 0.019115\n",
      "Epoch    4/10 W: 0.974, Cost : 0.003058\n",
      "Epoch    5/10 W: 1.010, Cost : 0.000489\n",
      "Epoch    6/10 W: 0.996, Cost : 0.000078\n",
      "Epoch    7/10 W: 1.002, Cost : 0.000013\n",
      "Epoch    8/10 W: 0.999, Cost : 0.000002\n",
      "Epoch    9/10 W: 1.000, Cost : 0.000000\n",
      "Epoch   10/10 W: 1.000, Cost : 0.000000\n"
     ]
    }
   ],
   "source": [
    "# 옵티마이저 함수 사용x 전체 코드\n",
    "\n",
    "# 1) 데이터 정의(Data definition)\n",
    "x_train = torch.FloatTensor([[1], [2], [3]])\n",
    "y_train = torch.FloatTensor([[1], [2], [3]])\n",
    "\n",
    "# 2) 모델 가정(Hypothesis) 초기화\n",
    "W = torch.zeros(1)\n",
    "# 2) 최적화(Optimize) 정의\n",
    "lr = 0.1\n",
    "\n",
    "nb_epochs = 10\n",
    "for epoch in range(nb_epochs + 1):\n",
    "    # 4) 모델 가정(Hypothesis) 예측\n",
    "    hypothesis = W * x_train\n",
    "    # 5) 손실 측정(Compute loss) 계산\n",
    "    cost = torch.mean((hypothesis - y_train) ** 2)\n",
    "    \n",
    "    print('Epoch {:4d}/{}, W: {:.3f}, Cost : {:.6f}'.format(epoch, nb_epochs, W.item(), cost.item()))\n",
    "    \n",
    "    # 6) 최적화(Optimize) 학습\n",
    "    gradient = torch.sum((W * x_train - y_train) * x_train) # cost함수 미분 ♣\n",
    "    W -= lr * gradient # W, b 업데이트 ♣"
   ]
  }
 ],
 "metadata": {
  "kernelspec": {
   "display_name": "Python 3",
   "language": "python",
   "name": "python3"
  },
  "language_info": {
   "codemirror_mode": {
    "name": "ipython",
    "version": 3
   },
   "file_extension": ".py",
   "mimetype": "text/x-python",
   "name": "python",
   "nbconvert_exporter": "python",
   "pygments_lexer": "ipython3",
   "version": "3.8.8"
  }
 },
 "nbformat": 4,
 "nbformat_minor": 5
}
