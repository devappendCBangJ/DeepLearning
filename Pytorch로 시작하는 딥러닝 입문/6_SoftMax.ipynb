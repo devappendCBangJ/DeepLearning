{
 "cells": [
  {
   "cell_type": "raw",
   "id": "0b3fe0b8",
   "metadata": {},
   "source": [
    "Pytorch 공부 사이트 : https://wikidocs.net/52460  \n",
    "\n",
    " 1. 목차  \n",
    "\t1) SoftMax\n",
    "    2) Cross Entropy\n",
    "    3) Low-level Implementation\n",
    "    4) High-level Implementation\n",
    "    5) Training Example\n",
    " 2. 소프트맥스(SoftMax) :  \n",
    "     지수 표현 : e^x = torch.exp(torch.FloatTensor([x])\n",
    "     모듈 불러오기 : 기존과 같은 방식\n",
    "     데이터 정의 : 기존과 같은 방식\n",
    "     시드 생성 - 항상 같은 결과를 보장하기 위함 : torch.manual_seed(1)\n",
    "     모델 가정\n",
    "         1way : \n",
    "            z = torch.FloatTensor([1, 2, 3])\n",
    "            hypothesis = F.softmax(z, dim=0) # softmax = 확률 함수 = 총합은 1\n",
    "         2way : \n",
    "             W = torch.zeros((2, 1), requires_grad=True)\n",
    "             b = torch.zeros(1, requires_grad=True)\n",
    "             hypothesis = torch.sigmoid(x_train.matmul(W)+b)\n",
    "     Optimzer 설정 : 기존과 같은 방식\n",
    "     손실 측정\n",
    "         1way : losses = -(y_train * torch.log(hypothesis) + (1 - y_train) * torch.log(1 - hypothesis))\n",
    "                cost = losses.mean()\n",
    "         2way : F.binary_cross_entropy(hypothesis, y_train)\n",
    "     결과 출력 : \n",
    "         prediction = hypothesis >= torch.FloatTensor([0.5])\n",
    "         correct_prediction = prediction.float() == y_train\n",
    "     모델 평가"
   ]
  },
  {
   "cell_type": "code",
   "execution_count": 3,
   "id": "41a013c2",
   "metadata": {},
   "outputs": [],
   "source": [
    "# 모듈 불러오기\n",
    "import torch\n",
    "import torch.nn as nn\n",
    "import torch.nn.functional as F\n",
    "import torch.optim as optim"
   ]
  },
  {
   "cell_type": "code",
   "execution_count": 4,
   "id": "1313995b",
   "metadata": {},
   "outputs": [
    {
     "data": {
      "text/plain": [
       "<torch._C.Generator at 0x2807b6e2630>"
      ]
     },
     "execution_count": 4,
     "metadata": {},
     "output_type": "execute_result"
    }
   ],
   "source": [
    "# 0) 시드 생성 : 항상 같은 결과를 보장하기 위함\n",
    "torch.manual_seed(1)"
   ]
  },
  {
   "cell_type": "code",
   "execution_count": 5,
   "id": "e5708fb9",
   "metadata": {},
   "outputs": [
    {
     "data": {
      "image/png": "[encoded data removed]",
      "text/plain": [
       "<IPython.core.display.Image object>"
      ]
     },
     "execution_count": 5,
     "metadata": {},
     "output_type": "execute_result"
    }
   ],
   "source": [
    "from IPython.display import Image  \n",
    "\n",
    "Image(\"./SoftMax.png\")\n",
    "# 확률 분포\n",
    "    # - 이산적 확률 분포(Discrete Probability Distribution) = softmax\n",
    "        # ex. 가위바위보, 주사위\n",
    "        # P(주먹l가위) = 이전에 주먹을 냈을 때, 이번에 가위를 낼 확률은?\n",
    "        # P(가위l가위) = 이전에 가위를 냈을 때, 이번에 가위를 낼 확률은?\n",
    "        # P(보l가위) = 이전에 보를 냈을 때, 이번에 가위를 낼 확률은?\n",
    "        # ...\n",
    "    # - 연속적 확률 분포(Continous Probability Distribution)\n",
    "        # ex. 정규분포"
   ]
  },
  {
   "cell_type": "code",
   "execution_count": 6,
   "id": "9dfb21d1",
   "metadata": {},
   "outputs": [],
   "source": [
    "# 1) 데이터 정의\n"
   ]
  },
  {
   "cell_type": "code",
   "execution_count": 8,
   "id": "7f6681ce",
   "metadata": {},
   "outputs": [
    {
     "name": "stdout",
     "output_type": "stream",
     "text": [
      "tensor([0.0900, 0.2447, 0.6652])\n",
      "tensor(1.)\n"
     ]
    }
   ],
   "source": [
    "# 2) 모델 가정\n",
    "z = torch.FloatTensor([1, 2, 3])\n",
    "hypothesis = F.softmax(z, dim=0) # softmax = 이산적 확률 함수 = 총합은 1\n",
    "\n",
    "print(hypothesis)\n",
    "print(hypothesis.sum())"
   ]
  },
  {
   "cell_type": "code",
   "execution_count": null,
   "id": "df0a2343",
   "metadata": {},
   "outputs": [],
   "source": []
  }
 ],
 "metadata": {
  "kernelspec": {
   "display_name": "Python 3",
   "language": "python",
   "name": "python3"
  },
  "language_info": {
   "codemirror_mode": {
    "name": "ipython",
    "version": 3
   },
   "file_extension": ".py",
   "mimetype": "text/x-python",
   "name": "python",
   "nbconvert_exporter": "python",
   "pygments_lexer": "ipython3",
   "version": "3.8.8"
  }
 },
 "nbformat": 4,
 "nbformat_minor": 5
}
