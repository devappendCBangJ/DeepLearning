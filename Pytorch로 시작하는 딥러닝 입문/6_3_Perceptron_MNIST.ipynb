{
 "cells": [
  {
   "cell_type": "code",
   "execution_count": 1,
   "id": "8b171f82",
   "metadata": {},
   "outputs": [
    {
     "name": "stdout",
     "output_type": "stream",
     "text": [
      "[[ 0.  0.  5. 13.  9.  1.  0.  0.]\n",
      " [ 0.  0. 13. 15. 10. 15.  5.  0.]\n",
      " [ 0.  3. 15.  2.  0. 11.  8.  0.]\n",
      " [ 0.  4. 12.  0.  0.  8.  8.  0.]\n",
      " [ 0.  5.  8.  0.  0.  9.  8.  0.]\n",
      " [ 0.  4. 11.  0.  1. 12.  7.  0.]\n",
      " [ 0.  2. 14.  5. 10. 12.  0.  0.]\n",
      " [ 0.  0.  6. 13. 10.  0.  0.  0.]]\n",
      "[ 0.  0.  5. 13.  9.  1.  0.  0.  0.  0. 13. 15. 10. 15.  5.  0.  0.  3.\n",
      " 15.  2.  0. 11.  8.  0.  0.  4. 12.  0.  0.  8.  8.  0.  0.  5.  8.  0.\n",
      "  0.  9.  8.  0.  0.  4. 11.  0.  1. 12.  7.  0.  0.  2. 14.  5. 10. 12.\n",
      "  0.  0.  0.  0.  6. 13. 10.  0.  0.  0.]\n",
      "0\n",
      "전체 샘플의 수 : 1797\n",
      "0 번 인덱스 샘플의 레이블 :  0\n",
      "1 번 인덱스 샘플의 레이블 :  1\n",
      "2 번 인덱스 샘플의 레이블 :  2\n",
      "3 번 인덱스 샘플의 레이블 :  3\n",
      "4 번 인덱스 샘플의 레이블 :  4\n"
     ]
    },
    {
     "data": {
      "image/png": "[encoded data removed]",
      "text/plain": [
       "<Figure size 432x288 with 5 Axes>"
      ]
     },
     "metadata": {
      "needs_background": "light"
     },
     "output_type": "display_data"
    }
   ],
   "source": [
    "# MNIST 데이터 테스트\n",
    "\n",
    "# 모듈 불러오기\n",
    "%matplotlib inline\n",
    "          # 이건머지???\n",
    "import matplotlib.pyplot as plt\n",
    "from sklearn.datasets import load_digits\n",
    "\n",
    "# MNIST 데이터 로드\n",
    "digits = load_digits()\n",
    "\n",
    "# 첫번째 샘플 픽셀값, 실제 레이블값, 샘플 수\n",
    "print(digits.images[0]) # 8차원\n",
    "print(digits.data[0]) # 8x8차원\n",
    "print(digits.target[0])\n",
    "print('전체 샘플의 수 : {}'.format(len(digits.images)))\n",
    "\n",
    "# 5개 샘플 시각화\n",
    "images_and_labels = list(zip(digits.images, digits.target))\n",
    "for index, (image, label) in enumerate(images_and_labels[:5]): # 이건 머지???\n",
    "    plt.subplot(2, 5, index + 1) # 이건 머지???\n",
    "    plt.axis('off') # 축 제거\n",
    "    plt.imshow(image, cmap = plt.cm.gray_r, interpolation='nearest') # 이건 머지???\n",
    "    plt.title('sample: %i' % label) # 이건머지???\n",
    "    \n",
    "# 5개 샘플 레이블 출력\n",
    "for i in range(5):\n",
    "    print(i, '번 인덱스 샘플의 레이블 : ', digits.target[i])"
   ]
  },
  {
   "cell_type": "code",
   "execution_count": 2,
   "id": "4d6d6948",
   "metadata": {},
   "outputs": [
    {
     "name": "stdout",
     "output_type": "stream",
     "text": [
      "Eopch :    0/100, Cost : 2.524850\n",
      "Eopch :   10/100, Cost : 2.171928\n",
      "Eopch :   20/100, Cost : 1.874611\n",
      "Eopch :   30/100, Cost : 1.567316\n",
      "Eopch :   40/100, Cost : 1.199110\n",
      "Eopch :   50/100, Cost : 0.844978\n",
      "Eopch :   60/100, Cost : 0.579893\n",
      "Eopch :   70/100, Cost : 0.409334\n",
      "Eopch :   80/100, Cost : 0.310338\n",
      "Eopch :   90/100, Cost : 0.247058\n"
     ]
    },
    {
     "data": {
      "text/plain": [
       "[<matplotlib.lines.Line2D at 0x10abb03a490>]"
      ]
     },
     "execution_count": 2,
     "metadata": {},
     "output_type": "execute_result"
    },
    {
     "data": {
      "image/png": "[encoded data removed]",
      "text/plain": [
       "<Figure size 432x288 with 1 Axes>"
      ]
     },
     "metadata": {
      "needs_background": "light"
     },
     "output_type": "display_data"
    }
   ],
   "source": [
    "# MNIST 다층 퍼셉트론 분류\n",
    "\n",
    "# 모듈 불러오기\n",
    "import torch\n",
    "import torch.nn as nn\n",
    "from torch import optim\n",
    "\n",
    "# 데이터(이미지 픽셀값, 이미지 레이블) 정의\n",
    "X = digits.data\n",
    "Y = digits.target\n",
    "X = torch.tensor(X, dtype=torch.float32)\n",
    "Y = torch.tensor(Y, dtype=torch.int64)\n",
    "\n",
    "# 모델 정의\n",
    "model = nn.Sequential(nn.Linear(64, 32), # input_layer : 64, hidden_layer1 : 32\n",
    "                      nn.ReLU(), \n",
    "                      nn.Linear(32, 16), # input_layer : 32, hidden_layer1 : 16\n",
    "                      nn.ReLU(), \n",
    "                      nn.Linear(16,10)) # input_layer : 16, hidden_layer1 : 10\n",
    "\n",
    "# 손실함수 정의\n",
    "loss_fn = nn.CrossEntropyLoss() # 이 손실함수는 소프트맥스 함수 포함\n",
    "\n",
    "# 최적화 함수 정의\n",
    "optimizer = optim.Adam(model.parameters())\n",
    "\n",
    "# 그래프 그리기 위한 list\n",
    "losses = []\n",
    "\n",
    "for epoch in range(100):\n",
    "    # 최적화 함수 초기화\n",
    "    optimizer.zero_grad()\n",
    "    \n",
    "    # 학습\n",
    "    y_pred = model(X)\n",
    "    loss = loss_fn(y_pred, Y)\n",
    "    loss.backward()\n",
    "    optimizer.step()\n",
    "    \n",
    "    # 출력\n",
    "    if epoch % 10 == 0:\n",
    "        print('Eopch : {:4d}/{}, Cost : {:.6f}'.format(epoch, 100, loss.item()))\n",
    "    \n",
    "    # 그래프 그리기 위한 list\n",
    "    losses.append(loss.item())\n",
    "\n",
    "# 손실함수 그래프 작도\n",
    "plt.plot(losses)"
   ]
  }
 ],
 "metadata": {
  "kernelspec": {
   "display_name": "Python 3",
   "language": "python",
   "name": "python3"
  },
  "language_info": {
   "codemirror_mode": {
    "name": "ipython",
    "version": 3
   },
   "file_extension": ".py",
   "mimetype": "text/x-python",
   "name": "python",
   "nbconvert_exporter": "python",
   "pygments_lexer": "ipython3",
   "version": "3.8.8"
  }
 },
 "nbformat": 4,
 "nbformat_minor": 5
}
