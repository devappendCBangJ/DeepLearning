{
 "cells": [
  {
   "cell_type": "markdown",
   "id": "92a27f74",
   "metadata": {},
   "source": [
    "● 주피터 꿀팁 : https://leedakyeong.tistory.com/entry/Markdown-Jupyter-Notebook-%EC%A3%BC%ED%94%BC%ED%84%B0-%EB%85%B8%ED%8A%B8%EB%B6%81-%EB%A7%88%ED%81%AC%EB%8B%A4%EC%9A%B4-%EC%A0%95%EB%A6%AC  \n",
    "\n",
    "● 주피터 노트북에 사진 넣기  \n",
    "    1. 모듈 불러오기 : from IPython.display import Image  \n",
    "    2. code 안에사진 : Image(\"파일 경로/파일명.파일 확장자\") ♣ 반드시 code 안에서 실행  \n",
    "    2. markdown 안에 사진 :  \n",
    "        // 1way  \n",
    "        ![title](파일 경로/파일명.파일 확장자) ♣ 반드시 markdown 안에서 실행  \n",
    "        // 2way  \n",
    "        <img src=\"파일 경로/파일명.파일 확장자\" width=\"사진 너비\" height=\"사진 높이\") ♣ 제일 뒤 괄호 >로 바꿔서 사용. 반드시 markdown 안에서 실행  "
   ]
  }
 ],
 "metadata": {
  "kernelspec": {
   "display_name": "Python 3",
   "language": "python",
   "name": "python3"
  },
  "language_info": {
   "codemirror_mode": {
    "name": "ipython",
    "version": 3
   },
   "file_extension": ".py",
   "mimetype": "text/x-python",
   "name": "python",
   "nbconvert_exporter": "python",
   "pygments_lexer": "ipython3",
   "version": "3.8.8"
  }
 },
 "nbformat": 4,
 "nbformat_minor": 5
}
