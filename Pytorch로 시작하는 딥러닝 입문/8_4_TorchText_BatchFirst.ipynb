{
 "cells": [
  {
   "cell_type": "code",
   "execution_count": 6,
   "id": "8696a2af",
   "metadata": {},
   "outputs": [],
   "source": [
    "# Batch_first = False인 경우 batch.text.size : (fix_length x 배치크기)\n",
    "# Batch_first = True인 경우 batch.text.size : (배치크기 x fix_length)"
   ]
  },
  {
   "cell_type": "code",
   "execution_count": 1,
   "id": "c2e0d674",
   "metadata": {},
   "outputs": [
    {
     "data": {
      "text/plain": [
       "('IMDb_Reviews.csv', <http.client.HTTPMessage at 0x1cca97e8880>)"
      ]
     },
     "execution_count": 1,
     "metadata": {},
     "output_type": "execute_result"
    }
   ],
   "source": [
    "# 데이터 크롤링\n",
    "import urllib.request\n",
    "import pandas as pd\n",
    "\n",
    "urllib.request.urlretrieve(\"https://raw.githubusercontent.com/LawrenceDuan/IMDb-Review-Analysis/master/IMDb_Reviews.csv\", filename=\"IMDb_Reviews.csv\")\n",
    "\n",
    "df = pd.read_csv('IMDb_Reviews.csv', encoding='latin1') # 데이터를 데이터 프레임에 저장\n",
    "print(df.head()) # 상위 5개 행 출력\n",
    "print('전체 샘플의 개수 : {}'.format(len(df)))\n",
    "\n",
    "# 데이터 추출 + 분리 + 저장\n",
    "train_df = df[:25000]\n",
    "test_df = df[25000:]\n",
    "train_df.to_csv(\"train_data.csv\", index=False) # 훈련 데이터를 csv형태로 저장. index 저장 유무 설정 가능\n",
    "test_df.to_csv(\"test_data.csv\", index=False) # 테스트 데이터를 csv형태로 저장. index 저장 유무 설정 가능"
   ]
  },
  {
   "cell_type": "code",
   "execution_count": 2,
   "id": "354a9ad5",
   "metadata": {},
   "outputs": [],
   "source": [
    "# 전처리 필드 정의\n",
    "from torchtext.legacy import data\n",
    "\n",
    "TEXT = data.Field(sequential = True, use_vocab = True, tokenize = str.split, lower = True, batch_first = True, fix_length = 20)\n",
    "LABEL = data.Field(sequential = False, use_vocab = False, batch_first = False, is_target = True)\n",
    "\n",
    "# 데이터셋 제작\n",
    "from torchtext.legacy.data import TabularDataset\n",
    "\n",
    "train_data, test_data = TabularDataset.splits(\n",
    "    path = '.', train='train_data.csv', test='test_data.csv',format='csv',\n",
    "    fields=[('text', TEXT), ('label', LABEL)], skip_header=True)"
   ]
  },
  {
   "cell_type": "code",
   "execution_count": 5,
   "id": "9d6fb60b",
   "metadata": {},
   "outputs": [
    {
     "name": "stdout",
     "output_type": "stream",
     "text": [
      "tensor([[   9,  310,    2,  903,   16,   10,    4,  136,   22,  979,    3, 1950,\n",
      "         1807, 2340,    9,   14,  979,    3,   25,    5],\n",
      "        [1422,    2,  131,   14,    3,  107,    0,   18,    9,  126,  387,  112,\n",
      "            9,  235,    2,  256,  104,    0, 4168,   18],\n",
      "        [5504,  975, 3041,  137,    5,    3, 1141,  373,  150,  490,  563, 1065,\n",
      "         1755,    4,   22,  171,    0,  439, 1134,  189],\n",
      "        [   9,    0,   10,  107,  404,    5,    0,   19,    2,    0,    0,    5,\n",
      "            0,  320,    0,  171,  106,    2, 7450,    7],\n",
      "        [ 147,   22,    3,  187,  349,    5,   20,    0,    0,   14,    3, 1088,\n",
      "          131,    9,  387,   18,    2,   20,   14,    3]])\n",
      "torch.Size([5, 20])\n"
     ]
    }
   ],
   "source": [
    "# 단어 집합 생성\n",
    "TEXT.build_vocab(train_data, min_freq=10, max_size=10000)\n",
    "\n",
    "# 토치텍스트의 데이터로더 생성(배치크기 설정)\n",
    "from torchtext.legacy.data import Iterator\n",
    "\n",
    "batch_size = 5 # 배치 사이즈 설정\n",
    "train_loader = Iterator(dataset=train_data, batch_size=batch_size)\n",
    "test_loader = Iterator(dataset=test_data, batch_size=batch_size)\n",
    "\n",
    "batch = next(iter(train_loader)) # 첫번째 미니배치(5개 데이터) 받아옴\n",
    "print(batch.text)\n",
    "print(batch.text.shape) # 미니배치의 크기"
   ]
  },
  {
   "cell_type": "code",
   "execution_count": null,
   "id": "5d16d662",
   "metadata": {},
   "outputs": [],
   "source": []
  }
 ],
 "metadata": {
  "kernelspec": {
   "display_name": "Python 3",
   "language": "python",
   "name": "python3"
  },
  "language_info": {
   "codemirror_mode": {
    "name": "ipython",
    "version": 3
   },
   "file_extension": ".py",
   "mimetype": "text/x-python",
   "name": "python",
   "nbconvert_exporter": "python",
   "pygments_lexer": "ipython3",
   "version": "3.8.8"
  }
 },
 "nbformat": 4,
 "nbformat_minor": 5
}
