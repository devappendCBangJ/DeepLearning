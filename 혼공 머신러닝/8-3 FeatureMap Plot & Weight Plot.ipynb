{
 "cells": [
  {
   "cell_type": "markdown",
   "metadata": {
    "id": "Khb4cafb5-It"
   },
   "source": [
    "# 합성곱 신경망의 시각화"
   ]
  },
  {
   "cell_type": "markdown",
   "metadata": {
    "id": "gtBpMgcc5-I0"
   },
   "source": [
    "<table align=\"left\">\n",
    "  <td>\n",
    "    <a target=\"_blank\" href=\"https://colab.research.google.com/github/rickiepark/hg-mldl/blob/master/8-3.ipynb\"><img src=\"https://www.tensorflow.org/images/colab_logo_32px.png\" />구글 코랩에서 실행하기</a>\n",
    "  </td>\n",
    "</table>"
   ]
  },
  {
   "cell_type": "markdown",
   "metadata": {
    "id": "10YURv8s5-I0"
   },
   "source": [
    "## 가중치 시각화"
   ]
  },
  {
   "cell_type": "code",
   "execution_count": 1,
   "metadata": {},
   "outputs": [],
   "source": [
    "# 모듈 불러오기\n",
    "from tensorflow import keras"
   ]
  },
  {
   "cell_type": "code",
   "execution_count": 2,
   "metadata": {
    "colab": {
     "base_uri": "https://localhost:8080/"
    },
    "id": "FdM7Nyis5-I1",
    "outputId": "6306b925-0861-40bb-f3ee-d906faa91f7d"
   },
   "outputs": [
    {
     "name": "stdout",
     "output_type": "stream",
     "text": [
      "--2022-01-08 04:46:54--  https://github.com/rickiepark/hg-mldl/raw/master/best-cnn-model.h5\n",
      "Resolving github.com (github.com)... 52.78.231.108\n",
      "Connecting to github.com (github.com)|52.78.231.108|:443... connected.\n",
      "HTTP request sent, awaiting response... 302 Found\n",
      "Location: https://raw.githubusercontent.com/rickiepark/hg-mldl/master/best-cnn-model.h5 [following]\n",
      "--2022-01-08 04:46:55--  https://raw.githubusercontent.com/rickiepark/hg-mldl/master/best-cnn-model.h5\n",
      "Resolving raw.githubusercontent.com (raw.githubusercontent.com)... 185.199.111.133, 185.199.110.133, 185.199.109.133, ...\n",
      "Connecting to raw.githubusercontent.com (raw.githubusercontent.com)|185.199.111.133|:443... connected.\n",
      "HTTP request sent, awaiting response... 200 OK\n",
      "Length: 4044200 (3.9M) [application/octet-stream]\n",
      "Saving to: ‘best-cnn-model.h5.1’\n",
      "\n",
      "best-cnn-model.h5.1 100%[===================>]   3.86M  18.5MB/s    in 0.2s    \n",
      "\n",
      "2022-01-08 04:46:56 (18.5 MB/s) - ‘best-cnn-model.h5.1’ saved [4044200/4044200]\n",
      "\n"
     ]
    }
   ],
   "source": [
    "# 코랩에서 실행하는 경우에는 다음 명령을 실행하여 best-cnn-model.h5 파일을 다운로드받아 사용하세요.\n",
    "!wget https://github.com/rickiepark/hg-mldl/raw/master/best-cnn-model.h5"
   ]
  },
  {
   "cell_type": "code",
   "execution_count": 2,
   "metadata": {},
   "outputs": [],
   "source": [
    "# 훈련된 모델 구조 + 파라미터 불러오기\n",
    "model = keras.models.load_model('best-cnn-model.h5')"
   ]
  },
  {
   "cell_type": "code",
   "execution_count": 3,
   "metadata": {},
   "outputs": [
    {
     "data": {
      "text/plain": [
       "[<tensorflow.python.keras.layers.convolutional.Conv2D at 0x279ee01f8e0>,\n",
       " <tensorflow.python.keras.layers.pooling.MaxPooling2D at 0x279ee0406d0>,\n",
       " <tensorflow.python.keras.layers.convolutional.Conv2D at 0x279ee040a90>,\n",
       " <tensorflow.python.keras.layers.pooling.MaxPooling2D at 0x279edf932e0>,\n",
       " <tensorflow.python.keras.layers.core.Flatten at 0x279ee09bdf0>,\n",
       " <tensorflow.python.keras.layers.core.Dense at 0x279ee040040>,\n",
       " <tensorflow.python.keras.layers.core.Dropout at 0x279ee0ac9d0>,\n",
       " <tensorflow.python.keras.layers.core.Dense at 0x279ee0aca60>]"
      ]
     },
     "execution_count": 3,
     "metadata": {},
     "output_type": "execute_result"
    }
   ],
   "source": [
    "# 확인용 코드 - layers 구조 확인\n",
    "model.layers"
   ]
  },
  {
   "cell_type": "code",
   "execution_count": 4,
   "metadata": {},
   "outputs": [
    {
     "name": "stdout",
     "output_type": "stream",
     "text": [
      "(3, 3, 1, 32) (32,)\n"
     ]
    }
   ],
   "source": [
    "# 훈련된 모델의 첫번째 layer(첫번째 Conv2D 층)\n",
    "conv = model.layers[0]\n",
    "\n",
    "# 확인용 코드 - [훈련된 모델의 첫번째 Conv2D 층] 가중치, 절편 크기\n",
    "print(conv.weights[0].shape, conv.weights[1].shape)"
   ]
  },
  {
   "cell_type": "code",
   "execution_count": 5,
   "metadata": {},
   "outputs": [
    {
     "name": "stdout",
     "output_type": "stream",
     "text": [
      "-0.019709207 0.23122567\n"
     ]
    }
   ],
   "source": [
    "# [훈련된 모델의 첫번째 Conv2D 층] 가중치\n",
    "conv_weights = conv.weights[0].numpy()\n",
    "\n",
    "# [훈련된 모델의 첫번째 Conv2D 층 가중치]의 평균, 표준편차\n",
    "print(conv_weights.mean(), conv_weights.std())"
   ]
  },
  {
   "cell_type": "code",
   "execution_count": 6,
   "metadata": {},
   "outputs": [],
   "source": [
    "# 모듈 불러오기\n",
    "import matplotlib.pyplot as plt"
   ]
  },
  {
   "cell_type": "code",
   "execution_count": 7,
   "metadata": {},
   "outputs": [
    {
     "data": {
      "image/png": "[encoded data removed]",
      "text/plain": [
       "<Figure size 432x288 with 1 Axes>"
      ]
     },
     "metadata": {
      "needs_background": "light"
     },
     "output_type": "display_data"
    }
   ],
   "source": [
    "# [훈련된 모델의 첫번째 Conv2D층 가중치] 시각화(히스토그램)\n",
    "plt.hist(conv_weights.reshape(-1, 1))\n",
    "plt.xlabel('weight')\n",
    "plt.ylabel('count')\n",
    "\n",
    "plt.show()"
   ]
  },
  {
   "cell_type": "code",
   "execution_count": 10,
   "metadata": {},
   "outputs": [
    {
     "data": {
      "image/png": "[encoded data removed]",
      "text/plain": [
       "<Figure size 1080x144 with 32 Axes>"
      ]
     },
     "metadata": {
      "needs_background": "light"
     },
     "output_type": "display_data"
    }
   ],
   "source": [
    "# [훈련된 모델의 첫번째 Conv2D 층] 커널 시각화\n",
    "fig, axs = plt.subplots(2, 16, figsize=(15,2))\n",
    "\n",
    "for i in range(2):\n",
    "    for j in range(16):\n",
    "        axs[i, j].imshow(conv_weights[:,:,0,i*16 + j], vmin=-0.5, vmax=0.5)\n",
    "        axs[i, j].axis('off')\n",
    "        \n",
    "plt.show()"
   ]
  },
  {
   "cell_type": "code",
   "execution_count": 11,
   "metadata": {},
   "outputs": [],
   "source": [
    "# 신경망 모델 생성 - 훈련하지 않은 빈 합성곱 신경망\n",
    "no_training_model = keras.Sequential()\n",
    "\n",
    "# 신경망 밀집층(은닉층 + 출력층) 추가\n",
    "no_training_model.add(keras.layers.Conv2D(32, kernel_size=3, activation='relu', padding='same', input_shape=(28,28,1)))"
   ]
  },
  {
   "cell_type": "code",
   "execution_count": 12,
   "metadata": {},
   "outputs": [
    {
     "name": "stdout",
     "output_type": "stream",
     "text": [
      "(3, 3, 1, 32)\n"
     ]
    }
   ],
   "source": [
    "# 훈련하지 않은 모델의 첫번째 layer(첫번째 Conv2D 층)\n",
    "no_training_conv = no_training_model.layers[0]\n",
    "\n",
    "# 확인용 코드 - [훈련하지 않은 모델의 첫번째 Conv2D 층] 가중치\n",
    "print(no_training_conv.weights[0].shape)"
   ]
  },
  {
   "cell_type": "code",
   "execution_count": 13,
   "metadata": {},
   "outputs": [
    {
     "name": "stdout",
     "output_type": "stream",
     "text": [
      "-0.001316255 0.08420355\n"
     ]
    }
   ],
   "source": [
    "# [훈련하지 않은 모델의 첫번째 Conv2D 층] 가중치\n",
    "no_training_weights = no_training_conv.weights[0].numpy()\n",
    "\n",
    "# [훈련하지 않은 모델의 첫번째 Conv2D 층 가중치]의 평균, 표준편차\n",
    "print(no_training_weights.mean(), no_training_weights.std())"
   ]
  },
  {
   "cell_type": "code",
   "execution_count": 14,
   "metadata": {},
   "outputs": [
    {
     "data": {
      "image/png": "[encoded data removed]",
      "text/plain": [
       "<Figure size 432x288 with 1 Axes>"
      ]
     },
     "metadata": {
      "needs_background": "light"
     },
     "output_type": "display_data"
    }
   ],
   "source": [
    "# [훈련하지 않은 모델의 첫번째 Conv2D층 가중치] 시각화(히스토그램)\n",
    "plt.hist(no_training_weights.reshape(-1, 1))\n",
    "plt.xlabel('weight')\n",
    "plt.ylabel('count')\n",
    "\n",
    "plt.show()"
   ]
  },
  {
   "cell_type": "code",
   "execution_count": 15,
   "metadata": {},
   "outputs": [
    {
     "data": {
      "image/png": "[encoded data removed]",
      "text/plain": [
       "<Figure size 1080x144 with 32 Axes>"
      ]
     },
     "metadata": {
      "needs_background": "light"
     },
     "output_type": "display_data"
    }
   ],
   "source": [
    "# [훈련하지 않은 모델의 첫번째 Conv2D 층] 커널 시각화\n",
    "fig, axs = plt.subplots(2, 16, figsize=(15,2))\n",
    "\n",
    "for i in range(2):\n",
    "    for j in range(16):\n",
    "        axs[i, j].imshow(no_training_weights[:,:,0,i*16 + j], vmin=-0.5, vmax=0.5)\n",
    "        axs[i, j].axis('off')\n",
    "        \n",
    "plt.show()"
   ]
  },
  {
   "cell_type": "markdown",
   "metadata": {
    "id": "GEc9KyP35-I6"
   },
   "source": [
    "## 함수형 API"
   ]
  },
  {
   "cell_type": "code",
   "execution_count": 17,
   "metadata": {},
   "outputs": [
    {
     "name": "stdout",
     "output_type": "stream",
     "text": [
      "Tensor(\"conv2d_input:0\", shape=(None, 28, 28, 1), dtype=float32)\n"
     ]
    }
   ],
   "source": [
    "# [훈련된 모델]의 입력\n",
    "print(model.input)"
   ]
  },
  {
   "cell_type": "code",
   "execution_count": 18,
   "metadata": {},
   "outputs": [],
   "source": [
    "# 첫번째 Conv2D로만 구성된 모델 = [훈련된 모델]의 입력 + [훈련된 모델의 첫번째 Conv2D 층]의 출력\n",
    "conv_acti = keras.Model(model.input, model.layers[0].output)"
   ]
  },
  {
   "cell_type": "markdown",
   "metadata": {
    "id": "CF6JzHj-5-I6"
   },
   "source": [
    "## 특성 맵 시각화"
   ]
  },
  {
   "cell_type": "code",
   "execution_count": 20,
   "metadata": {
    "colab": {
     "base_uri": "https://localhost:8080/"
    },
    "id": "TU5ENBPB5-I7",
    "outputId": "57189673-d0ff-4d38-ffc2-086cc4954fde"
   },
   "outputs": [],
   "source": [
    "# 패션 MNIST 데이터 다운로드\n",
    "(train_input, train_target), (test_input, test_target) = keras.datasets.fashion_mnist.load_data()"
   ]
  },
  {
   "cell_type": "code",
   "execution_count": 21,
   "metadata": {},
   "outputs": [
    {
     "data": {
      "image/png": "[encoded data removed]",
      "text/plain": [
       "<Figure size 432x288 with 1 Axes>"
      ]
     },
     "metadata": {
      "needs_background": "light"
     },
     "output_type": "display_data"
    }
   ],
   "source": [
    "# 확인용 코드 - 일부 데이터 이미지 출력\n",
    "plt.imshow(train_input[0], cmap='gray_r')\n",
    "\n",
    "plt.show()"
   ]
  },
  {
   "cell_type": "code",
   "execution_count": 23,
   "metadata": {},
   "outputs": [],
   "source": [
    "# SGD Classifier 사용을 위한 정규화 + 2차원 배열 -> 3차원 배열 변경\n",
    "inputs = train_input[0:1].reshape(-1, 28, 28, 1)/255.0\n",
    "\n",
    "# 모델의 특성맵 = 일부 데이터\n",
    "feature_maps = conv_acti.predict(inputs)"
   ]
  },
  {
   "cell_type": "code",
   "execution_count": 24,
   "metadata": {
    "colab": {
     "base_uri": "https://localhost:8080/"
    },
    "id": "wYMHCQ0C5-I7",
    "outputId": "98ca5d17-8590-4dfc-b4c1-98b06731cef6"
   },
   "outputs": [
    {
     "name": "stdout",
     "output_type": "stream",
     "text": [
      "(1, 28, 28, 32)\n"
     ]
    }
   ],
   "source": [
    "# 확인용 코드 - 특성맵 크기\n",
    "print(feature_maps.shape)"
   ]
  },
  {
   "cell_type": "code",
   "execution_count": 25,
   "metadata": {},
   "outputs": [
    {
     "data": {
      "image/png": "[encoded data removed]",
      "text/plain": [
       "<Figure size 1080x576 with 32 Axes>"
      ]
     },
     "metadata": {
      "needs_background": "light"
     },
     "output_type": "display_data"
    }
   ],
   "source": [
    "# [훈련된 모델의 첫번째 Conv2D 층]의 출력 특성맵 시각화\n",
    "fig, axs = plt.subplots(4, 8, figsize=(15,8))\n",
    "\n",
    "for i in range(4):\n",
    "    for j in range(8):\n",
    "        axs[i, j].imshow(feature_maps[0,:,:,i*8 + j])\n",
    "        axs[i, j].axis('off')\n",
    "        \n",
    "plt.show()"
   ]
  },
  {
   "cell_type": "code",
   "execution_count": 26,
   "metadata": {},
   "outputs": [],
   "source": [
    "# 두번째 Conv2D로만 구성된 모델 = [훈련된 모델]의 입력 + [훈련된 모델의 두번째 Conv2D 층]의 출력\n",
    "conv2_acti = keras.Model(model.input, model.layers[2].output)"
   ]
  },
  {
   "cell_type": "code",
   "execution_count": 27,
   "metadata": {},
   "outputs": [],
   "source": [
    "# SGD Classifier 사용을 위한 정규화 + 2차원 배열 -> 3차원 배열 변경\n",
    "feature_maps = conv2_acti.predict(train_input[0:1].reshape(-1, 28, 28, 1)/255.0)"
   ]
  },
  {
   "cell_type": "code",
   "execution_count": 28,
   "metadata": {},
   "outputs": [
    {
     "name": "stdout",
     "output_type": "stream",
     "text": [
      "(1, 14, 14, 64)\n"
     ]
    }
   ],
   "source": [
    "# 확인용 코드 - 특성맵 크기\n",
    "print(feature_maps.shape)"
   ]
  },
  {
   "cell_type": "code",
   "execution_count": 29,
   "metadata": {},
   "outputs": [
    {
     "data": {
      "image/png": "[encoded data removed]",
      "text/plain": [
       "<Figure size 864x864 with 64 Axes>"
      ]
     },
     "metadata": {
      "needs_background": "light"
     },
     "output_type": "display_data"
    }
   ],
   "source": [
    "# [훈련된 모델의 두번째 Conv2D 층]의 출력 특성맵 시각화\n",
    "fig, axs = plt.subplots(8, 8, figsize=(12,12))\n",
    "\n",
    "for i in range(8):\n",
    "    for j in range(8):\n",
    "        axs[i, j].imshow(feature_maps[0,:,:,i*8 + j])\n",
    "        axs[i, j].axis('off')\n",
    "        \n",
    "plt.show()"
   ]
  }
 ],
 "metadata": {
  "accelerator": "GPU",
  "colab": {
   "name": "8-3.ipynb",
   "provenance": []
  },
  "kernelspec": {
   "display_name": "Python 3",
   "language": "python",
   "name": "python3"
  },
  "language_info": {
   "codemirror_mode": {
    "name": "ipython",
    "version": 3
   },
   "file_extension": ".py",
   "mimetype": "text/x-python",
   "name": "python",
   "nbconvert_exporter": "python",
   "pygments_lexer": "ipython3",
   "version": "3.8.8"
  }
 },
 "nbformat": 4,
 "nbformat_minor": 1
}
