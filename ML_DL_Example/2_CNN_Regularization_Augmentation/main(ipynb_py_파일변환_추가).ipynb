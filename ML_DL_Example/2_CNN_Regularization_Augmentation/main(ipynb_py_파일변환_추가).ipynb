{
 "cells": [
  {
   "cell_type": "code",
   "execution_count": 5,
   "metadata": {
    "id": "wmoyMAKitJHR"
   },
   "outputs": [
    {
     "name": "stdout",
     "output_type": "stream",
     "text": [
      "Requirement already satisfied: torchmetrics in c:\\users\\bang\\anaconda\\envs\\bangenv\\lib\\site-packages (0.9.3)\n",
      "Requirement already satisfied: torch>=1.3.1 in c:\\users\\bang\\anaconda\\envs\\bangenv\\lib\\site-packages (from torchmetrics) (1.8.0)\n",
      "Requirement already satisfied: packaging in c:\\users\\bang\\anaconda\\envs\\bangenv\\lib\\site-packages (from torchmetrics) (21.3)\n",
      "Requirement already satisfied: numpy>=1.17.2 in c:\\users\\bang\\anaconda\\envs\\bangenv\\lib\\site-packages (from torchmetrics) (1.21.5)\n",
      "Requirement already satisfied: typing_extensions in c:\\users\\bang\\anaconda\\envs\\bangenv\\lib\\site-packages (from torch>=1.3.1->torchmetrics) (4.1.1)\n",
      "Requirement already satisfied: pyparsing!=3.0.5,>=2.0.2 in c:\\users\\bang\\anaconda\\envs\\bangenv\\lib\\site-packages (from packaging->torchmetrics) (3.0.4)\n",
      "Note: you may need to restart the kernel to use updated packages.\n"
     ]
    }
   ],
   "source": [
    "from google.colab import drive\n",
    "\n",
    "# Mount goole drive\n",
    "drive.mount('/content/drive')\n",
    "\n",
    "# Move to the project directory\n",
    "%cd /content/drive/MyDrive/ML2/Lab2\n",
    "\n",
    "# Install the torchmetrics package\n",
    "%pip install torchmetrics"
   ]
  },
  {
   "cell_type": "code",
   "execution_count": 13,
   "metadata": {
    "id": "QrB2RCYzyZ-x",
    "scrolled": false
   },
   "outputs": [
    {
     "data": {
      "text/plain": [
       "Reusing TensorBoard on port 6006 (pid 30196), started 3:37:18 ago. (Use '!kill 30196' to kill it.)"
      ]
     },
     "metadata": {},
     "output_type": "display_data"
    },
    {
     "data": {
      "text/html": [
       "\n",
       "      <iframe id=\"tensorboard-frame-98b05aa88dfc760\" width=\"100%\" height=\"800\" frameborder=\"0\">\n",
       "      </iframe>\n",
       "      <script>\n",
       "        (function() {\n",
       "          const frame = document.getElementById(\"tensorboard-frame-98b05aa88dfc760\");\n",
       "          const url = new URL(\"/\", window.location);\n",
       "          const port = 6006;\n",
       "          if (port) {\n",
       "            url.port = port;\n",
       "          }\n",
       "          frame.src = url;\n",
       "        })();\n",
       "      </script>\n",
       "    "
      ],
      "text/plain": [
       "<IPython.core.display.HTML object>"
      ]
     },
     "metadata": {},
     "output_type": "display_data"
    }
   ],
   "source": [
    "# 텐서보드 확인\n",
    "%reload_ext tensorboard\n",
    "%tensorboard --logdir=logs"
   ]
  },
  {
   "cell_type": "code",
   "execution_count": 7,
   "metadata": {},
   "outputs": [
    {
     "name": "stdout",
     "output_type": "stream",
     "text": [
      "Requirement already satisfied: ipynb-py-convert in c:\\users\\bang\\anaconda\\lib\\site-packages (0.4.6)\n"
     ]
    }
   ],
   "source": [
    "# # .ipynb <-> .py 파일변환\n",
    "# !pip install ipynb-py-convert\n",
    "\n",
    "# !ipynb-py-convert src/models.py src/models.ipynb"
   ]
  },
  {
   "cell_type": "code",
   "execution_count": 5,
   "metadata": {
    "id": "p8fPO3MO2AnO"
   },
   "outputs": [
    {
     "name": "stderr",
     "output_type": "stream",
     "text": [
      "Traceback (most recent call last):\n",
      "  File \"regularization.py\", line 4, in <module>\n",
      "    import torch\n",
      "  File \"C:\\Users\\Bang\\Anaconda\\lib\\site-packages\\torch\\__init__.py\", line 123, in <module>\n",
      "    raise err\n",
      "OSError: [WinError 127] 지정된 프로시저를 찾을 수 없습니다. Error loading \"C:\\Users\\Bang\\Anaconda\\lib\\site-packages\\torch\\lib\\caffe2_detectron_ops.dll\" or one of its dependencies.\n"
     ]
    }
   ],
   "source": [
    "!python regularization.py"
   ]
  },
  {
   "cell_type": "code",
   "execution_count": 6,
   "metadata": {
    "id": "FQD1PhgARaFq"
   },
   "outputs": [
    {
     "name": "stderr",
     "output_type": "stream",
     "text": [
      "Traceback (most recent call last):\n",
      "  File \"augmentation.py\", line 4, in <module>\n",
      "    import torch\n",
      "  File \"C:\\Users\\Bang\\Anaconda\\lib\\site-packages\\torch\\__init__.py\", line 123, in <module>\n",
      "    raise err\n",
      "OSError: [WinError 127] 지정된 프로시저를 찾을 수 없습니다. Error loading \"C:\\Users\\Bang\\Anaconda\\lib\\site-packages\\torch\\lib\\caffe2_detectron_ops.dll\" or one of its dependencies.\n"
     ]
    }
   ],
   "source": [
    "!python augmentation.py"
   ]
  }
 ],
 "metadata": {
  "accelerator": "GPU",
  "colab": {
   "authorship_tag": "ABX9TyPzyKa0KFVK8p5L+TuEsduV",
   "collapsed_sections": [],
   "provenance": []
  },
  "kernelspec": {
   "display_name": "BangEnv",
   "language": "python",
   "name": "bangenv"
  },
  "language_info": {
   "codemirror_mode": {
    "name": "ipython",
    "version": 3
   },
   "file_extension": ".py",
   "mimetype": "text/x-python",
   "name": "python",
   "nbconvert_exporter": "python",
   "pygments_lexer": "ipython3",
   "version": "3.9.12"
  }
 },
 "nbformat": 4,
 "nbformat_minor": 1
}
