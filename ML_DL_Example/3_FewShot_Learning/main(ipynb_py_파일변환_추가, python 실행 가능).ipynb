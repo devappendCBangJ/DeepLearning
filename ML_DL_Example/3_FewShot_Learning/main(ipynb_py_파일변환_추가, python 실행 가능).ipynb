{
 "cells": [
  {
   "cell_type": "code",
   "execution_count": 5,
   "metadata": {
    "id": "wmoyMAKitJHR"
   },
   "outputs": [
    {
     "name": "stdout",
     "output_type": "stream",
     "text": [
      "Requirement already satisfied: torchmetrics in c:\\users\\bang\\anaconda\\envs\\bangenv\\lib\\site-packages (0.9.3)\n",
      "Requirement already satisfied: torch>=1.3.1 in c:\\users\\bang\\anaconda\\envs\\bangenv\\lib\\site-packages (from torchmetrics) (1.8.0)\n",
      "Requirement already satisfied: packaging in c:\\users\\bang\\anaconda\\envs\\bangenv\\lib\\site-packages (from torchmetrics) (21.3)\n",
      "Requirement already satisfied: numpy>=1.17.2 in c:\\users\\bang\\anaconda\\envs\\bangenv\\lib\\site-packages (from torchmetrics) (1.21.5)\n",
      "Requirement already satisfied: typing_extensions in c:\\users\\bang\\anaconda\\envs\\bangenv\\lib\\site-packages (from torch>=1.3.1->torchmetrics) (4.1.1)\n",
      "Requirement already satisfied: pyparsing!=3.0.5,>=2.0.2 in c:\\users\\bang\\anaconda\\envs\\bangenv\\lib\\site-packages (from packaging->torchmetrics) (3.0.4)\n",
      "Note: you may need to restart the kernel to use updated packages.\n"
     ]
    }
   ],
   "source": [
    "# 구글 코랩 드라이브 마운트\n",
    "from google.colab import drive\n",
    "\n",
    "# Mount goole drive\n",
    "drive.mount('/content/drive')\n",
    "\n",
    "# Move to the project directory\n",
    "%cd /content/drive/MyDrive/ML2/Lab2"
   ]
  },
  {
   "cell_type": "code",
   "execution_count": 7,
   "metadata": {},
   "outputs": [
    {
     "name": "stdout",
     "output_type": "stream",
     "text": [
      "Requirement already satisfied: torchmetrics in c:\\users\\bang\\anaconda\\envs\\pytorch1.12.1\\lib\\site-packages (0.10.0)\n",
      "Requirement already satisfied: packaging in c:\\users\\bang\\anaconda\\envs\\pytorch1.12.1\\lib\\site-packages (from torchmetrics) (21.3)\n",
      "Requirement already satisfied: numpy>=1.17.2 in c:\\users\\bang\\anaconda\\envs\\pytorch1.12.1\\lib\\site-packages (from torchmetrics) (1.23.4)\n",
      "Requirement already satisfied: torch>=1.3.1 in c:\\users\\bang\\anaconda\\envs\\pytorch1.12.1\\lib\\site-packages (from torchmetrics) (1.12.1)\n",
      "Requirement already satisfied: typing_extensions in c:\\users\\bang\\anaconda\\envs\\pytorch1.12.1\\lib\\site-packages (from torch>=1.3.1->torchmetrics) (4.3.0)\n",
      "Requirement already satisfied: pyparsing!=3.0.5,>=2.0.2 in c:\\users\\bang\\anaconda\\envs\\pytorch1.12.1\\lib\\site-packages (from packaging->torchmetrics) (3.0.9)\n",
      "Note: you may need to restart the kernel to use updated packages.\n",
      "Collecting easydict\n",
      "  Using cached easydict-1.10-py3-none-any.whl\n",
      "Installing collected packages: easydict\n",
      "Successfully installed easydict-1.10\n",
      "Note: you may need to restart the kernel to use updated packages.\n"
     ]
    }
   ],
   "source": [
    "# Install the torchmetrics package\n",
    "%pip install torchmetrics\n",
    "\n",
    "# Install the easydict package\n",
    "%pip install easydict"
   ]
  },
  {
   "cell_type": "code",
   "execution_count": 13,
   "metadata": {
    "id": "QrB2RCYzyZ-x",
    "scrolled": false
   },
   "outputs": [
    {
     "data": {
      "text/plain": [
       "Reusing TensorBoard on port 6006 (pid 30196), started 3:37:18 ago. (Use '!kill 30196' to kill it.)"
      ]
     },
     "metadata": {},
     "output_type": "display_data"
    },
    {
     "data": {
      "text/html": [
       "\n",
       "      <iframe id=\"tensorboard-frame-98b05aa88dfc760\" width=\"100%\" height=\"800\" frameborder=\"0\">\n",
       "      </iframe>\n",
       "      <script>\n",
       "        (function() {\n",
       "          const frame = document.getElementById(\"tensorboard-frame-98b05aa88dfc760\");\n",
       "          const url = new URL(\"/\", window.location);\n",
       "          const port = 6006;\n",
       "          if (port) {\n",
       "            url.port = port;\n",
       "          }\n",
       "          frame.src = url;\n",
       "        })();\n",
       "      </script>\n",
       "    "
      ],
      "text/plain": [
       "<IPython.core.display.HTML object>"
      ]
     },
     "metadata": {},
     "output_type": "display_data"
    }
   ],
   "source": [
    "# 텐서보드 확인\n",
    "%reload_ext tensorboard\n",
    "%tensorboard --logdir=logs"
   ]
  },
  {
   "cell_type": "code",
   "execution_count": 3,
   "metadata": {},
   "outputs": [
    {
     "name": "stdout",
     "output_type": "stream",
     "text": [
      "Requirement already satisfied: ipynb-py-convert in c:\\users\\bang\\anaconda\\lib\\site-packages (0.4.6)\n"
     ]
    }
   ],
   "source": [
    "# .ipynb <-> .py 파일변환\n",
    "!pip install ipynb-py-convert\n",
    "\n",
    "!ipynb-py-convert transfer_finetune.py debug_transfer_finetune.ipynb"
   ]
  },
  {
   "cell_type": "code",
   "execution_count": 5,
   "metadata": {},
   "outputs": [
    {
     "name": "stdout",
     "output_type": "stream",
     "text": [
      "# conda environments:\n",
      "#\n",
      "base                  *  C:\\Users\\Bang\\Anaconda\n",
      "BangEnv                  C:\\Users\\Bang\\Anaconda\\envs\\BangEnv\n",
      "pytorch1.12.1            C:\\Users\\Bang\\Anaconda\\envs\\pytorch1.12.1\n",
      "yolov5                   C:\\Users\\Bang\\Anaconda\\envs\\yolov5\n",
      "\n"
     ]
    }
   ],
   "source": [
    "# 가상환경 확인 + 변경\n",
    "!conda info --envs\n",
    "\n",
    "!conda activate pytorch1.12.1"
   ]
  },
  {
   "cell_type": "code",
   "execution_count": 5,
   "metadata": {},
   "outputs": [
    {
     "ename": "KeyboardInterrupt",
     "evalue": "",
     "output_type": "error",
     "traceback": [
      "\u001b[1;31m---------------------------------------------------------------------------\u001b[0m",
      "\u001b[1;31mKeyboardInterrupt\u001b[0m                         Traceback (most recent call last)",
      "Cell \u001b[1;32mIn [5], line 2\u001b[0m\n\u001b[0;32m      1\u001b[0m \u001b[38;5;66;03m# 파이썬 파일 실행\u001b[39;00m\n\u001b[1;32m----> 2\u001b[0m \u001b[43mexec\u001b[49m\u001b[43m(\u001b[49m\u001b[38;5;28;43mopen\u001b[39;49m\u001b[43m(\u001b[49m\u001b[38;5;124;43m\"\u001b[39;49m\u001b[38;5;124;43mdebug_test.py\u001b[39;49m\u001b[38;5;124;43m\"\u001b[39;49m\u001b[43m,\u001b[49m\u001b[43m \u001b[49m\u001b[43mencoding\u001b[49m\u001b[38;5;241;43m=\u001b[39;49m\u001b[38;5;124;43m\"\u001b[39;49m\u001b[38;5;124;43mUTF-8\u001b[39;49m\u001b[38;5;124;43m\"\u001b[39;49m\u001b[43m)\u001b[49m\u001b[38;5;241;43m.\u001b[39;49m\u001b[43mread\u001b[49m\u001b[43m(\u001b[49m\u001b[43m)\u001b[49m\u001b[43m)\u001b[49m\n",
      "File \u001b[1;32m<string>:23\u001b[0m\n",
      "File \u001b[1;32m<string>:19\u001b[0m, in \u001b[0;36mmain\u001b[1;34m()\u001b[0m\n",
      "File \u001b[1;32m~\\JupyterProjects\\Machine_Learning_II_lecture\\Lecture5\\src\\datasets.py:99\u001b[0m, in \u001b[0;36mOmniglotPrototype.__init__\u001b[1;34m(self, root, K_s, K_q, training, transform)\u001b[0m\n\u001b[0;32m     97\u001b[0m     images \u001b[38;5;241m=\u001b[39m \u001b[38;5;28mmap\u001b[39m(read_image, images)\n\u001b[0;32m     98\u001b[0m     images \u001b[38;5;241m=\u001b[39m \u001b[38;5;28mmap\u001b[39m(to_tensor, images)\n\u001b[1;32m---> 99\u001b[0m     images \u001b[38;5;241m=\u001b[39m torch\u001b[38;5;241m.\u001b[39mstack(\u001b[38;5;28;43mlist\u001b[39;49m\u001b[43m(\u001b[49m\u001b[43mimages\u001b[49m\u001b[43m)\u001b[49m, dim\u001b[38;5;241m=\u001b[39m\u001b[38;5;241m0\u001b[39m)\n\u001b[0;32m    100\u001b[0m     \u001b[38;5;28mself\u001b[39m\u001b[38;5;241m.\u001b[39mdata\u001b[38;5;241m.\u001b[39mappend(images)\n\u001b[0;32m    102\u001b[0m \u001b[38;5;66;03m# 변수 저장\u001b[39;00m\n",
      "File \u001b[1;32m~\\JupyterProjects\\Machine_Learning_II_lecture\\Lecture5\\src\\datasets.py:13\u001b[0m, in \u001b[0;36mread_image\u001b[1;34m(image)\u001b[0m\n\u001b[0;32m     11\u001b[0m \u001b[38;5;28;01mdef\u001b[39;00m \u001b[38;5;21mread_image\u001b[39m(image):\n\u001b[0;32m     12\u001b[0m     \u001b[38;5;66;03m# image 불러오기 -> gray 변환\u001b[39;00m\n\u001b[1;32m---> 13\u001b[0m     image \u001b[38;5;241m=\u001b[39m \u001b[43mImage\u001b[49m\u001b[38;5;241;43m.\u001b[39;49m\u001b[43mopen\u001b[49m\u001b[43m(\u001b[49m\u001b[43mimage\u001b[49m\u001b[43m)\u001b[49m\n\u001b[0;32m     14\u001b[0m     image \u001b[38;5;241m=\u001b[39m image\u001b[38;5;241m.\u001b[39mconvert(\u001b[38;5;124m'\u001b[39m\u001b[38;5;124mL\u001b[39m\u001b[38;5;124m'\u001b[39m)\n\u001b[0;32m     15\u001b[0m     \u001b[38;5;28;01mreturn\u001b[39;00m image\n",
      "File \u001b[1;32m~\\Anaconda\\envs\\pytorch1.12.1\\lib\\site-packages\\PIL\\Image.py:3092\u001b[0m, in \u001b[0;36mopen\u001b[1;34m(fp, mode, formats)\u001b[0m\n\u001b[0;32m   3089\u001b[0m     filename \u001b[38;5;241m=\u001b[39m fp\n\u001b[0;32m   3091\u001b[0m \u001b[38;5;28;01mif\u001b[39;00m filename:\n\u001b[1;32m-> 3092\u001b[0m     fp \u001b[38;5;241m=\u001b[39m \u001b[43mbuiltins\u001b[49m\u001b[38;5;241;43m.\u001b[39;49m\u001b[43mopen\u001b[49m\u001b[43m(\u001b[49m\u001b[43mfilename\u001b[49m\u001b[43m,\u001b[49m\u001b[43m \u001b[49m\u001b[38;5;124;43m\"\u001b[39;49m\u001b[38;5;124;43mrb\u001b[39;49m\u001b[38;5;124;43m\"\u001b[39;49m\u001b[43m)\u001b[49m\n\u001b[0;32m   3093\u001b[0m     exclusive_fp \u001b[38;5;241m=\u001b[39m \u001b[38;5;28;01mTrue\u001b[39;00m\n\u001b[0;32m   3095\u001b[0m \u001b[38;5;28;01mtry\u001b[39;00m:\n",
      "\u001b[1;31mKeyboardInterrupt\u001b[0m: "
     ]
    }
   ],
   "source": [
    "# 파이썬 파일 실행\n",
    "exec(open(\"debug_test.py\", encoding=\"UTF-8\").read())"
   ]
  },
  {
   "cell_type": "code",
   "execution_count": null,
   "metadata": {},
   "outputs": [],
   "source": [
    "# 파이썬 파일 실행\n",
    "!python baseline.py"
   ]
  }
 ],
 "metadata": {
  "accelerator": "GPU",
  "colab": {
   "authorship_tag": "ABX9TyPzyKa0KFVK8p5L+TuEsduV",
   "collapsed_sections": [],
   "provenance": []
  },
  "kernelspec": {
   "display_name": "pytorch1.12.1",
   "language": "python",
   "name": "pytorch1.12.1"
  },
  "language_info": {
   "codemirror_mode": {
    "name": "ipython",
    "version": 3
   },
   "file_extension": ".py",
   "mimetype": "text/x-python",
   "name": "python",
   "nbconvert_exporter": "python",
   "pygments_lexer": "ipython3",
   "version": "3.9.13"
  }
 },
 "nbformat": 4,
 "nbformat_minor": 1
}
