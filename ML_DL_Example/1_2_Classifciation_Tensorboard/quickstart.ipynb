{
 "cells": [
  {
   "cell_type": "code",
   "execution_count": 1,
   "metadata": {},
   "outputs": [],
   "source": [
    "import torch\n",
    "import torch.nn as nn\n",
    "import torch.optim as optim\n",
    "\n",
    "import torchvision\n",
    "import torchvision.transforms as T\n",
    "\n",
    "from torchmetrics.aggregation import MeanMetric\n",
    "from torchmetrics.functional.classification import accuracy"
   ]
  },
  {
   "cell_type": "code",
   "execution_count": 2,
   "metadata": {},
   "outputs": [],
   "source": [
    "# Device\n",
    "device = 'cuda' if torch.cuda.is_available() else 'cpu'\n",
    "\n",
    "# Dataset\n",
    "dataset_dir = 'data'\n",
    "batch_size = 64\n",
    "\n",
    "# Training\n",
    "base_lr = 0.001\n",
    "epochs = 20\n",
    "\n",
    "# Save\n",
    "checkpoint_dir = 'checkpoint'"
   ]
  },
  {
   "cell_type": "code",
   "execution_count": 3,
   "metadata": {},
   "outputs": [],
   "source": [
    "# Build dataset\n",
    "train_set = torchvision.datasets.FashionMNIST(\n",
    "    root=dataset_dir,\n",
    "    train=True,\n",
    "    download=True,\n",
    "    transform=T.ToTensor(),\n",
    ")\n",
    "train_loader = torch.utils.data.DataLoader(train_set, batch_size=batch_size, shuffle=True)\n",
    "\n",
    "val_set = torchvision.datasets.FashionMNIST(\n",
    "    root=dataset_dir,\n",
    "    train=False,\n",
    "    download=True,\n",
    "    transform=T.ToTensor(),\n",
    ")\n",
    "val_loader = torch.utils.data.DataLoader(val_set, batch_size=batch_size)"
   ]
  },
  {
   "cell_type": "code",
   "execution_count": 4,
   "metadata": {},
   "outputs": [],
   "source": [
    "# Define model\n",
    "class MLP(nn.Module):\n",
    "    def __init__(self):\n",
    "        super(MLP, self).__init__()\n",
    "        self.fc1 = nn.Linear(28 * 28, 512)\n",
    "        self.fc2 = nn.Linear(512, 512)\n",
    "        self.fc3 = nn.Linear(512, 10)\n",
    "        self.act = nn.ReLU()\n",
    "\n",
    "    def forward(self, x):\n",
    "        x = x.reshape((x.shape[0], -1))\n",
    "        x = self.act(self.fc1(x))\n",
    "        x = self.act(self.fc2(x))\n",
    "        x = self.fc3(x)\n",
    "        return x\n",
    "\n",
    "# Build model\n",
    "model = MLP()\n",
    "\n",
    "# Move model to device\n",
    "model = model.to(device)"
   ]
  },
  {
   "cell_type": "code",
   "execution_count": 5,
   "metadata": {},
   "outputs": [],
   "source": [
    "# Build optimizer \n",
    "optimizer = optim.Adam(model.parameters(), lr=base_lr)\n",
    "\n",
    "# Build scheduler\n",
    "scheduler = optim.lr_scheduler.CosineAnnealingLR(optimizer, epochs * len(train_loader))\n",
    "\n",
    "# Build loss function\n",
    "loss_fn = nn.CrossEntropyLoss()\n",
    "\n",
    "# Build metric function\n",
    "metric_fn = accuracy"
   ]
  },
  {
   "cell_type": "code",
   "execution_count": 6,
   "metadata": {},
   "outputs": [],
   "source": [
    "# Define training function \n",
    "def train(loader, model, optimizer, scheduler, loss_fn, metric_fn, device):\n",
    "    # Set model to train mode\n",
    "    model.train()\n",
    "    \n",
    "    # Create average meters to measure loss and metric\n",
    "    loss_mean = MeanMetric().to(device)\n",
    "    metric_mean = MeanMetric().to(device)\n",
    "    \n",
    "    # train model for one epoch\n",
    "    for inputs, targets in loader:\n",
    "        # Move data to device\n",
    "        inputs = inputs.to(device)\n",
    "        targets = targets.to(device)\n",
    "\n",
    "        # Forward\n",
    "        outputs = model(inputs)\n",
    "        loss = loss_fn(outputs, targets)\n",
    "        metric = metric_fn(outputs, targets)\n",
    "\n",
    "        # Backward\n",
    "        optimizer.zero_grad()\n",
    "        loss.backward()\n",
    "        optimizer.step()\n",
    "        \n",
    "        # Update statistics\n",
    "        loss_mean.update(loss)\n",
    "        metric_mean.update(metric)\n",
    "\n",
    "        # Update learning rate\n",
    "        scheduler.step()\n",
    "\n",
    "    # Summarize statistics\n",
    "    summary = {'loss': loss_mean.compute(), 'metric': metric_mean.compute()}\n",
    "\n",
    "    return summary"
   ]
  },
  {
   "cell_type": "code",
   "execution_count": 7,
   "metadata": {},
   "outputs": [],
   "source": [
    "# Define evaluation function \n",
    "def evaluate(loader, model, loss_fn, metric_fn, device):\n",
    "    # Set model to evaluation mode\n",
    "    model.eval()\n",
    "    \n",
    "    # Create average meters to measure loss and accuracy\n",
    "    loss_mean = MeanMetric().to(device)\n",
    "    metric_mean = MeanMetric().to(device)\n",
    "    \n",
    "    # Evalute model for one epoch\n",
    "    for inputs, targets in loader:\n",
    "        # Move data to device\n",
    "        inputs = inputs.to(device)\n",
    "        targets = targets.to(device)\n",
    "\n",
    "        # Forward\n",
    "        with torch.no_grad():\n",
    "            outputs = model(inputs)\n",
    "        loss = loss_fn(outputs, targets)\n",
    "        metric = metric_fn(outputs, targets)\n",
    "\n",
    "        # Update statistics\n",
    "        loss_mean.update(loss)\n",
    "        metric_mean.update(metric)\n",
    "    \n",
    "    # Summarize statistics\n",
    "    summary = {'loss': loss_mean.compute(), 'metric': metric_mean.compute()}\n",
    "\n",
    "    return summary"
   ]
  },
  {
   "cell_type": "code",
   "execution_count": 8,
   "metadata": {},
   "outputs": [
    {
     "name": "stdout",
     "output_type": "stream",
     "text": [
      "Epoch 1: Train Loss 0.4911, Train Accuracy 0.8235, Test Loss 0.3911, Test Accuracy 0.8593\n",
      "Epoch 2: Train Loss 0.3595, Train Accuracy 0.8685, Test Loss 0.3660, Test Accuracy 0.8687\n",
      "Epoch 3: Train Loss 0.3200, Train Accuracy 0.8814, Test Loss 0.3671, Test Accuracy 0.8685\n",
      "Epoch 4: Train Loss 0.2954, Train Accuracy 0.8880, Test Loss 0.3479, Test Accuracy 0.8710\n",
      "Epoch 5: Train Loss 0.2720, Train Accuracy 0.8974, Test Loss 0.3176, Test Accuracy 0.8856\n",
      "Epoch 6: Train Loss 0.2534, Train Accuracy 0.9044, Test Loss 0.3343, Test Accuracy 0.8831\n",
      "Epoch 7: Train Loss 0.2381, Train Accuracy 0.9087, Test Loss 0.3085, Test Accuracy 0.8921\n",
      "Epoch 8: Train Loss 0.2191, Train Accuracy 0.9159, Test Loss 0.3450, Test Accuracy 0.8860\n",
      "Epoch 9: Train Loss 0.2055, Train Accuracy 0.9217, Test Loss 0.3276, Test Accuracy 0.8921\n",
      "Epoch 10: Train Loss 0.1899, Train Accuracy 0.9285, Test Loss 0.3179, Test Accuracy 0.8974\n",
      "Epoch 11: Train Loss 0.1728, Train Accuracy 0.9342, Test Loss 0.3187, Test Accuracy 0.8953\n",
      "Epoch 12: Train Loss 0.1585, Train Accuracy 0.9392, Test Loss 0.3331, Test Accuracy 0.8936\n",
      "Epoch 13: Train Loss 0.1458, Train Accuracy 0.9449, Test Loss 0.3285, Test Accuracy 0.8969\n",
      "Epoch 14: Train Loss 0.1327, Train Accuracy 0.9490, Test Loss 0.3404, Test Accuracy 0.8996\n",
      "Epoch 15: Train Loss 0.1211, Train Accuracy 0.9543, Test Loss 0.3437, Test Accuracy 0.8998\n",
      "Epoch 16: Train Loss 0.1116, Train Accuracy 0.9587, Test Loss 0.3450, Test Accuracy 0.9002\n",
      "Epoch 17: Train Loss 0.1039, Train Accuracy 0.9610, Test Loss 0.3515, Test Accuracy 0.9025\n",
      "Epoch 18: Train Loss 0.0983, Train Accuracy 0.9639, Test Loss 0.3544, Test Accuracy 0.9020\n",
      "Epoch 19: Train Loss 0.0947, Train Accuracy 0.9650, Test Loss 0.3557, Test Accuracy 0.9019\n",
      "Epoch 20: Train Loss 0.0929, Train Accuracy 0.9660, Test Loss 0.3558, Test Accuracy 0.9020\n"
     ]
    }
   ],
   "source": [
    "# Main loop\n",
    "for epoch in range(epochs):\n",
    "    # train one epoch\n",
    "    train_summary = train(train_loader, model, optimizer, scheduler, loss_fn, metric_fn, device)\n",
    "    \n",
    "    # evaluate one epoch\n",
    "    val_summary = evaluate(val_loader, model, loss_fn, metric_fn, device)\n",
    "    \n",
    "    # print log\n",
    "    print((f'Epoch {epoch+1}: '\n",
    "           + f'Train Loss {train_summary[\"loss\"]:.04f}, ' \n",
    "           + f'Train Accuracy {train_summary[\"metric\"]:.04f}, '\n",
    "           + f'Test Loss {val_summary[\"loss\"]:.04f}, '\n",
    "           + f'Test Accuracy {val_summary[\"metric\"]:.04f}'))\n",
    "    "
   ]
  },
  {
   "cell_type": "code",
   "execution_count": 9,
   "metadata": {},
   "outputs": [],
   "source": [
    "# Save checkpoint\n",
    "import os\n",
    "\n",
    "os.makedirs(checkpoint_dir, exist_ok=True)\n",
    "checkpoint_path = f'{checkpoint_dir}/model.pth'\n",
    "\n",
    "torch.save(model.state_dict(), checkpoint_path)"
   ]
  },
  {
   "cell_type": "code",
   "execution_count": 10,
   "metadata": {},
   "outputs": [
    {
     "data": {
      "text/plain": [
       "<All keys matched successfully>"
      ]
     },
     "execution_count": 10,
     "metadata": {},
     "output_type": "execute_result"
    }
   ],
   "source": [
    "# Load checkpoint\n",
    "model_pretrained = MLP()\n",
    "\n",
    "model_pretrained.load_state_dict(torch.load(checkpoint_path))"
   ]
  },
  {
   "cell_type": "code",
   "execution_count": 11,
   "metadata": {},
   "outputs": [
    {
     "name": "stdout",
     "output_type": "stream",
     "text": [
      "[Random] Test Acc 0.0877\n",
      "[Pretrained] Test Acc 0.9020\n"
     ]
    }
   ],
   "source": [
    "# Comparison with randomly initialized model\n",
    "model_random = MLP()\n",
    "\n",
    "model_random.to(device)\n",
    "model_pretrained.to(device)\n",
    "\n",
    "random_summary = evaluate(val_loader, model_random, loss_fn, metric_fn, device)\n",
    "pretraiend_summary = evaluate(val_loader, model_pretrained, loss_fn, metric_fn, device)\n",
    "\n",
    "print(f'[Random] Test Acc {random_summary[\"metric\"]:.04f}')\n",
    "print(f'[Pretrained] Test Acc {pretraiend_summary[\"metric\"]:.04f}')"
   ]
  }
 ],
 "metadata": {
  "kernelspec": {
   "display_name": "Python 3",
   "language": "python",
   "name": "python3"
  },
  "language_info": {
   "codemirror_mode": {
    "name": "ipython",
    "version": 3
   },
   "file_extension": ".py",
   "mimetype": "text/x-python",
   "name": "python",
   "nbconvert_exporter": "python",
   "pygments_lexer": "ipython3",
   "version": "3.8.8"
  },
  "vscode": {
   "interpreter": {
    "hash": "47cd534c079f69b1fca6fc1b0efc6d00f8e8bb4d8dd2aa87a73e0a70b773969b"
   }
  }
 },
 "nbformat": 4,
 "nbformat_minor": 2
}
