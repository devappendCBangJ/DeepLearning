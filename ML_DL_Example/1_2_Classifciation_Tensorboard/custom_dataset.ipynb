{
 "cells": [
  {
   "cell_type": "code",
   "execution_count": 1,
   "metadata": {},
   "outputs": [],
   "source": [
    "import os\n",
    "import glob\n",
    "import torch\n",
    "import torchvision.transforms as T\n",
    "\n",
    "from torch.utils.data import Dataset, DataLoader\n",
    "from PIL import Image"
   ]
  },
  {
   "cell_type": "code",
   "execution_count": 2,
   "metadata": {},
   "outputs": [],
   "source": [
    "class Cifar10(Dataset):\n",
    "    # image dataset 전체 경로 저장 -> tranform\n",
    "    def __init__(self, root, transform=None):\n",
    "        super(Cifar10, self).__init__()\n",
    "        self.make_dataset(root)\n",
    "        self.transform = transform\n",
    "    \n",
    "    # image dataset 전체 경로 저장\n",
    "    def make_dataset(self, root):\n",
    "        # class(폴더명) 불러오기\n",
    "        self.data = []\n",
    "        categories = os.listdir(root)\n",
    "        categories = sorted(categories)\n",
    "        \n",
    "        # class -> label 변환 + 각 class의 이미지 파일 전부 가져오기\n",
    "        for label, category in enumerate(categories):\n",
    "            images = glob.glob(f'{root}/{category}/*.png')\n",
    "            for image in images:\n",
    "                self.data.append((image, label))\n",
    "    \n",
    "    # data 개수\n",
    "    def __len__(self):\n",
    "        return len(self.data)\n",
    "    \n",
    "    # 경로에 있는, 지정한 idx의 이미지 읽기 -> RGB 변환 -> tranform -> image, label 반환\n",
    "    def __getitem__(self, idx):\n",
    "        image, label = self.data[idx]\n",
    "        image = self.read_image(image)\n",
    "        if self.transform is not None:\n",
    "            image = self.transform(image)\n",
    "        return image, label\n",
    "    \n",
    "    # 경로에 있는 image 읽기 -> RGB 변환\n",
    "    def read_image(self, path):\n",
    "        image = Image.open(path)\n",
    "        return image.convert('RGB')"
   ]
  },
  {
   "cell_type": "code",
   "execution_count": 8,
   "metadata": {},
   "outputs": [
    {
     "ename": "FileNotFoundError",
     "evalue": "[WinError 3] 지정된 경로를 찾을 수 없습니다: './data/Cifar10/train'",
     "output_type": "error",
     "traceback": [
      "\u001b[1;31m---------------------------------------------------------------------------\u001b[0m",
      "\u001b[1;31mFileNotFoundError\u001b[0m                         Traceback (most recent call last)",
      "Input \u001b[1;32mIn [8]\u001b[0m, in \u001b[0;36m<cell line: 9>\u001b[1;34m()\u001b[0m\n\u001b[0;32m      7\u001b[0m \u001b[38;5;66;03m# train_dataset load\u001b[39;00m\n\u001b[0;32m      8\u001b[0m train_root \u001b[38;5;241m=\u001b[39m \u001b[38;5;124m'\u001b[39m\u001b[38;5;124m./data/Cifar10/train\u001b[39m\u001b[38;5;124m'\u001b[39m\n\u001b[1;32m----> 9\u001b[0m train_data \u001b[38;5;241m=\u001b[39m \u001b[43mCifar10\u001b[49m\u001b[43m(\u001b[49m\u001b[43mtrain_root\u001b[49m\u001b[43m,\u001b[49m\u001b[43m \u001b[49m\u001b[43mtransform\u001b[49m\u001b[43m)\u001b[49m\n\u001b[0;32m     11\u001b[0m \u001b[38;5;66;03m# 확인용 코드 : train_data shape + label\u001b[39;00m\n\u001b[0;32m     12\u001b[0m \u001b[38;5;28;01mfor\u001b[39;00m image, label \u001b[38;5;129;01min\u001b[39;00m train_data:\n",
      "Input \u001b[1;32mIn [2]\u001b[0m, in \u001b[0;36mCifar10.__init__\u001b[1;34m(self, root, transform)\u001b[0m\n\u001b[0;32m      3\u001b[0m \u001b[38;5;28;01mdef\u001b[39;00m \u001b[38;5;21m__init__\u001b[39m(\u001b[38;5;28mself\u001b[39m, root, transform\u001b[38;5;241m=\u001b[39m\u001b[38;5;28;01mNone\u001b[39;00m):\n\u001b[0;32m      4\u001b[0m     \u001b[38;5;28msuper\u001b[39m(Cifar10, \u001b[38;5;28mself\u001b[39m)\u001b[38;5;241m.\u001b[39m\u001b[38;5;21m__init__\u001b[39m()\n\u001b[1;32m----> 5\u001b[0m     \u001b[38;5;28;43mself\u001b[39;49m\u001b[38;5;241;43m.\u001b[39;49m\u001b[43mmake_dataset\u001b[49m\u001b[43m(\u001b[49m\u001b[43mroot\u001b[49m\u001b[43m)\u001b[49m\n\u001b[0;32m      6\u001b[0m     \u001b[38;5;28mself\u001b[39m\u001b[38;5;241m.\u001b[39mtransform \u001b[38;5;241m=\u001b[39m transform\n",
      "Input \u001b[1;32mIn [2]\u001b[0m, in \u001b[0;36mCifar10.make_dataset\u001b[1;34m(self, root)\u001b[0m\n\u001b[0;32m      9\u001b[0m \u001b[38;5;28;01mdef\u001b[39;00m \u001b[38;5;21mmake_dataset\u001b[39m(\u001b[38;5;28mself\u001b[39m, root):\n\u001b[0;32m     10\u001b[0m     \u001b[38;5;66;03m# class(폴더명) 불러오기\u001b[39;00m\n\u001b[0;32m     11\u001b[0m     \u001b[38;5;28mself\u001b[39m\u001b[38;5;241m.\u001b[39mdata \u001b[38;5;241m=\u001b[39m []\n\u001b[1;32m---> 12\u001b[0m     categories \u001b[38;5;241m=\u001b[39m \u001b[43mos\u001b[49m\u001b[38;5;241;43m.\u001b[39;49m\u001b[43mlistdir\u001b[49m\u001b[43m(\u001b[49m\u001b[43mroot\u001b[49m\u001b[43m)\u001b[49m\n\u001b[0;32m     13\u001b[0m     categories \u001b[38;5;241m=\u001b[39m \u001b[38;5;28msorted\u001b[39m(categories)\n\u001b[0;32m     15\u001b[0m     \u001b[38;5;66;03m# class -> label 변환 + 각 class의 이미지 파일 전부 가져오기\u001b[39;00m\n",
      "\u001b[1;31mFileNotFoundError\u001b[0m: [WinError 3] 지정된 경로를 찾을 수 없습니다: './data/Cifar10/train'"
     ]
    }
   ],
   "source": [
    "# image transform\n",
    "transform = T.Compose([\n",
    "    T.ToTensor(),\n",
    "    T.Normalize((0.5, 0.5, 0.5), (0.25, 0.25, 0.25)),\n",
    "])\n",
    "\n",
    "# train_dataset load\n",
    "train_root = 'data/Cifar10/train'\n",
    "train_data = Cifar10(train_root, transform)\n",
    "\n",
    "# 확인용 코드 : train_data shape + label\n",
    "for image, label in train_data:\n",
    "    print(image.shape, label)\n",
    "    break"
   ]
  },
  {
   "cell_type": "code",
   "execution_count": 12,
   "metadata": {},
   "outputs": [
    {
     "name": "stdout",
     "output_type": "stream",
     "text": [
      "50000 781\n",
      "10000 10000\n"
     ]
    }
   ],
   "source": [
    "# image transform\n",
    "transform = T.Compose([\n",
    "    T.ToTensor(),\n",
    "    T.Normalize((0.5, 0.5, 0.5), (0.25, 0.25, 0.25)),\n",
    "])\n",
    "\n",
    "# train_data load\n",
    "train_root = 'data/Cifar10/train'\n",
    "train_data = Cifar10(train_root, transform)\n",
    "train_loader = DataLoader(train_data, batch_size=64, shuffle=True, drop_last=True)\n",
    "\n",
    "# test_data load\n",
    "test_root = 'data/Cifar10/test'\n",
    "test_data = Cifar10(test_root, transform)\n",
    "test_loader = DataLoader(test_data, batch_size=1)\n",
    "\n",
    "# 확인용 코드\n",
    "print(len(train_data), len(train_loader)) # train_data 개수, train_loader batch set 개수\n",
    "print(len(test_data), len(test_loader)) # test_data 개수, test_loader batch set 개수"
   ]
  }
 ],
 "metadata": {
  "kernelspec": {
   "display_name": "BangEnv",
   "language": "python",
   "name": "bangenv"
  },
  "language_info": {
   "codemirror_mode": {
    "name": "ipython",
    "version": 3
   },
   "file_extension": ".py",
   "mimetype": "text/x-python",
   "name": "python",
   "nbconvert_exporter": "python",
   "pygments_lexer": "ipython3",
   "version": "3.9.12"
  },
  "vscode": {
   "interpreter": {
    "hash": "47cd534c079f69b1fca6fc1b0efc6d00f8e8bb4d8dd2aa87a73e0a70b773969b"
   }
  }
 },
 "nbformat": 4,
 "nbformat_minor": 2
}
