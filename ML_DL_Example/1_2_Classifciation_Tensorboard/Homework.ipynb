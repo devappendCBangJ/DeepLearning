{
 "cells": [
  {
   "cell_type": "code",
   "execution_count": 1,
   "metadata": {},
   "outputs": [],
   "source": [
    "import os\n",
    "import torch\n",
    "import torch.nn as nn\n",
    "import torch.optim as optim\n",
    "import torchvision.transforms as T\n",
    "\n",
    "from torch.utils.tensorboard import SummaryWriter\n",
    "from torch.utils.data import DataLoader\n",
    "from torchvision.datasets import CIFAR10\n",
    "from torchmetrics.aggregation import MeanMetric\n",
    "from torchmetrics.functional.classification import accuracy"
   ]
  },
  {
   "cell_type": "code",
   "execution_count": 2,
   "metadata": {},
   "outputs": [],
   "source": [
    "# Build config\n",
    "title = 'cifar10_mlp'\n",
    "data_root = 'data'\n",
    "batch_size = 32\n",
    "num_workers = 8\n",
    "device = 'cuda' if torch.cuda.is_available() else 'cpu'\n",
    "base_lr = 0.001\n",
    "epochs = 40\n",
    "\n",
    "log_dir = 'log'\n",
    "checkpoint_dir = 'checkpoint'\n",
    "\n",
    "os.makedirs(log_dir, exist_ok = True) # 없어도 무방한 코드\n",
    "os.makedirs(checkpoint_dir, exist_ok = True)"
   ]
  },
  {
   "cell_type": "code",
   "execution_count": 3,
   "metadata": {},
   "outputs": [
    {
     "name": "stdout",
     "output_type": "stream",
     "text": [
      "Files already downloaded and verified\n",
      "Files already downloaded and verified\n"
     ]
    }
   ],
   "source": [
    "# Build dataset\n",
    "transform = T.Compose([\n",
    "    T.ToTensor(),\n",
    "    T.Normalize((0.5, 0.5, 0.5), (0.25, 0.25, 0.25)),\n",
    "])\n",
    "train_data = CIFAR10(data_root, train=True, download=True, transform=transform)\n",
    "train_loader = DataLoader(train_data, batch_size, shuffle=True, num_workers=num_workers, drop_last=True)\n",
    "\n",
    "val_data = CIFAR10(data_root, train=False, download=True, transform=transform)\n",
    "val_loader = DataLoader(val_data, batch_size=batch_size, num_workers=num_workers)"
   ]
  },
  {
   "cell_type": "code",
   "execution_count": 4,
   "metadata": {},
   "outputs": [],
   "source": [
    "# Define model\n",
    "class MLP(nn.Module):\n",
    "    def __init__(self):\n",
    "        super(MLP, self).__init__()\n",
    "        self.fc1 = nn.Linear(32 * 32 * 3, 128)\n",
    "        self.fc2 = nn.Linear(128, 128)\n",
    "        self.fc3 = nn.Linear(128, 10)\n",
    "        self.act = nn.ReLU()\n",
    "\n",
    "    def forward(self, x):\n",
    "        x = x.reshape((x.shape[0], -1))\n",
    "        x = self.act(self.fc1(x))\n",
    "        x = self.act(self.fc2(x))\n",
    "        x = self.fc3(x)\n",
    "        return x\n",
    "\n",
    "model = MLP()\n",
    "model = model.to(device)"
   ]
  },
  {
   "cell_type": "code",
   "execution_count": 5,
   "metadata": {},
   "outputs": [],
   "source": [
    "# Build optimizer \n",
    "optimizer = optim.Adam(model.parameters(), lr=base_lr)\n",
    "\n",
    "# Build scheduler\n",
    "scheduler = optim.lr_scheduler.CosineAnnealingLR(optimizer, epochs * len(train_loader))\n",
    "\n",
    "# Build loss function\n",
    "loss_fn = nn.CrossEntropyLoss()\n",
    "\n",
    "# Build metric function\n",
    "metric_fn = accuracy\n",
    "\n",
    "# Build logger\n",
    "train_logger = SummaryWriter(f'{log_dir}/train')\n",
    "val_logger = SummaryWriter(f'{log_dir}/val')"
   ]
  },
  {
   "cell_type": "code",
   "execution_count": 6,
   "metadata": {},
   "outputs": [],
   "source": [
    "# Define training loop \n",
    "def train(loader, model, optimizer, scheduler, loss_fn, metric_fn, device):\n",
    "    model.train()\n",
    "    loss_mean = MeanMetric().to(device)\n",
    "    metric_mean = MeanMetric().to(device)\n",
    "    \n",
    "    for inputs, targets in loader:\n",
    "        inputs = inputs.to(device)\n",
    "        targets = targets.to(device)\n",
    "\n",
    "        outputs = model(inputs)\n",
    "        loss = loss_fn(outputs, targets)\n",
    "        metric = metric_fn(outputs, targets)\n",
    "\n",
    "        optimizer.zero_grad()\n",
    "        loss.backward()\n",
    "        optimizer.step()\n",
    "        \n",
    "        loss_mean.update(loss)\n",
    "        metric_mean.update(metric)\n",
    "\n",
    "        scheduler.step()\n",
    "\n",
    "    summary = {'loss': loss_mean.compute(), 'metric': metric_mean.compute()}\n",
    "\n",
    "    return summary"
   ]
  },
  {
   "cell_type": "code",
   "execution_count": 7,
   "metadata": {},
   "outputs": [],
   "source": [
    "# Define evaluation loop \n",
    "def evaluate(loader, model, loss_fn, metric_fn, device):\n",
    "    model.eval()\n",
    "    loss_mean = MeanMetric().to(device)\n",
    "    metric_mean = MeanMetric().to(device)\n",
    "    \n",
    "    for inputs, targets in loader:\n",
    "        inputs = inputs.to(device)\n",
    "        targets = targets.to(device)\n",
    "\n",
    "        with torch.no_grad():\n",
    "            outputs = model(inputs)\n",
    "        loss = loss_fn(outputs, targets)\n",
    "        metric = metric_fn(outputs, targets)\n",
    "\n",
    "        loss_mean.update(loss)\n",
    "        metric_mean.update(metric)\n",
    "    \n",
    "    summary = {'loss': loss_mean.compute(), 'metric': metric_mean.compute()}\n",
    "\n",
    "    return summary"
   ]
  },
  {
   "cell_type": "code",
   "execution_count": 8,
   "metadata": {},
   "outputs": [
    {
     "name": "stdout",
     "output_type": "stream",
     "text": [
      "Epoch 1: Train Loss 1.6580, Train Accuracy 0.4121, Test Loss 1.5403, Test Accuracy 0.4536\n",
      "Epoch 2: Train Loss 1.4745, Train Accuracy 0.4763, Test Loss 1.4668, Test Accuracy 0.4870\n",
      "Epoch 3: Train Loss 1.3848, Train Accuracy 0.5103, Test Loss 1.4456, Test Accuracy 0.4913\n",
      "Epoch 4: Train Loss 1.3139, Train Accuracy 0.5339, Test Loss 1.4160, Test Accuracy 0.5081\n",
      "Epoch 5: Train Loss 1.2526, Train Accuracy 0.5556, Test Loss 1.4177, Test Accuracy 0.5105\n",
      "Epoch 6: Train Loss 1.2034, Train Accuracy 0.5737, Test Loss 1.4280, Test Accuracy 0.5102\n",
      "Epoch 7: Train Loss 1.1532, Train Accuracy 0.5926, Test Loss 1.4382, Test Accuracy 0.5064\n",
      "Epoch 8: Train Loss 1.1014, Train Accuracy 0.6051, Test Loss 1.4191, Test Accuracy 0.5205\n",
      "Epoch 9: Train Loss 1.0562, Train Accuracy 0.6238, Test Loss 1.4740, Test Accuracy 0.5124\n",
      "Epoch 10: Train Loss 1.0123, Train Accuracy 0.6379, Test Loss 1.4876, Test Accuracy 0.5133\n",
      "Epoch 11: Train Loss 0.9717, Train Accuracy 0.6521, Test Loss 1.4898, Test Accuracy 0.5113\n",
      "Epoch 12: Train Loss 0.9272, Train Accuracy 0.6692, Test Loss 1.5528, Test Accuracy 0.5181\n",
      "Epoch 13: Train Loss 0.8857, Train Accuracy 0.6831, Test Loss 1.5662, Test Accuracy 0.5185\n",
      "Epoch 14: Train Loss 0.8458, Train Accuracy 0.6955, Test Loss 1.6098, Test Accuracy 0.5126\n",
      "Epoch 15: Train Loss 0.8071, Train Accuracy 0.7094, Test Loss 1.6731, Test Accuracy 0.5166\n",
      "Epoch 16: Train Loss 0.7616, Train Accuracy 0.7268, Test Loss 1.7010, Test Accuracy 0.5142\n",
      "Epoch 17: Train Loss 0.7240, Train Accuracy 0.7378, Test Loss 1.7658, Test Accuracy 0.5112\n",
      "Epoch 18: Train Loss 0.6868, Train Accuracy 0.7510, Test Loss 1.8018, Test Accuracy 0.5104\n",
      "Epoch 19: Train Loss 0.6468, Train Accuracy 0.7667, Test Loss 1.9042, Test Accuracy 0.5120\n",
      "Epoch 20: Train Loss 0.6086, Train Accuracy 0.7823, Test Loss 1.9332, Test Accuracy 0.5015\n",
      "Epoch 21: Train Loss 0.5737, Train Accuracy 0.7943, Test Loss 1.9789, Test Accuracy 0.5083\n",
      "Epoch 22: Train Loss 0.5403, Train Accuracy 0.8058, Test Loss 2.0516, Test Accuracy 0.5077\n",
      "Epoch 23: Train Loss 0.5047, Train Accuracy 0.8180, Test Loss 2.1386, Test Accuracy 0.5100\n",
      "Epoch 24: Train Loss 0.4689, Train Accuracy 0.8339, Test Loss 2.2350, Test Accuracy 0.5045\n",
      "Epoch 25: Train Loss 0.4393, Train Accuracy 0.8440, Test Loss 2.2930, Test Accuracy 0.5045\n",
      "Epoch 26: Train Loss 0.4071, Train Accuracy 0.8567, Test Loss 2.3760, Test Accuracy 0.5091\n",
      "Epoch 27: Train Loss 0.3816, Train Accuracy 0.8679, Test Loss 2.4662, Test Accuracy 0.5066\n",
      "Epoch 28: Train Loss 0.3547, Train Accuracy 0.8772, Test Loss 2.5464, Test Accuracy 0.5036\n",
      "Epoch 29: Train Loss 0.3289, Train Accuracy 0.8884, Test Loss 2.6088, Test Accuracy 0.5049\n",
      "Epoch 30: Train Loss 0.3079, Train Accuracy 0.8966, Test Loss 2.6731, Test Accuracy 0.5034\n",
      "Epoch 31: Train Loss 0.2887, Train Accuracy 0.9056, Test Loss 2.7335, Test Accuracy 0.5039\n",
      "Epoch 32: Train Loss 0.2711, Train Accuracy 0.9124, Test Loss 2.8049, Test Accuracy 0.5062\n",
      "Epoch 33: Train Loss 0.2567, Train Accuracy 0.9190, Test Loss 2.8659, Test Accuracy 0.5000\n",
      "Epoch 34: Train Loss 0.2442, Train Accuracy 0.9240, Test Loss 2.9032, Test Accuracy 0.5032\n",
      "Epoch 35: Train Loss 0.2341, Train Accuracy 0.9288, Test Loss 2.9420, Test Accuracy 0.5022\n",
      "Epoch 36: Train Loss 0.2263, Train Accuracy 0.9318, Test Loss 2.9682, Test Accuracy 0.5036\n",
      "Epoch 37: Train Loss 0.2204, Train Accuracy 0.9341, Test Loss 2.9825, Test Accuracy 0.5032\n",
      "Epoch 38: Train Loss 0.2160, Train Accuracy 0.9362, Test Loss 2.9920, Test Accuracy 0.5024\n",
      "Epoch 39: Train Loss 0.2130, Train Accuracy 0.9376, Test Loss 2.9961, Test Accuracy 0.5027\n",
      "Epoch 40: Train Loss 0.2115, Train Accuracy 0.9381, Test Loss 2.9970, Test Accuracy 0.5028\n"
     ]
    }
   ],
   "source": [
    "# Main loop\n",
    "best_acc = 0.0\n",
    "for epoch in range(epochs):\n",
    "    train_summary = train(train_loader, model, optimizer, scheduler, loss_fn, metric_fn, device)\n",
    "    val_summary = evaluate(val_loader, model, loss_fn, metric_fn, device)\n",
    "    \n",
    "    # Write log\n",
    "    train_logger.add_scalar('Loss', train_summary['loss'], epoch + 1)\n",
    "    train_logger.add_scalar('Accuracy', train_summary['metric'], epoch + 1)\n",
    "    val_logger.add_scalar('Loss', val_summary['loss'], epoch + 1)\n",
    "    val_logger.add_scalar('Accuracy', val_summary['metric'], epoch + 1)\n",
    "    \n",
    "    # Save model\n",
    "    state_dict = {\n",
    "        'epoch': epoch + 1,\n",
    "        'model': model.state_dict(), # 얘는 뭐지???\n",
    "        'optimizer': optimizer.state_dict()\n",
    "    }\n",
    "    checkpoint_path = f'{checkpoint_dir}/{title}_last.pth'\n",
    "    torch.save(state_dict, checkpoint_path)\n",
    "    \n",
    "    # print log\n",
    "    print((f'Epoch {epoch+1}: '\n",
    "           + f'Train Loss {train_summary[\"loss\"]:.04f}, ' \n",
    "           + f'Train Accuracy {train_summary[\"metric\"]:.04f}, '\n",
    "           + f'Test Loss {val_summary[\"loss\"]:.04f}, '\n",
    "           + f'Test Accuracy {val_summary[\"metric\"]:.04f}'))\n",
    "    \n",
    "train_logger.close()\n",
    "val_logger.close()"
   ]
  },
  {
   "cell_type": "code",
   "execution_count": 8,
   "metadata": {},
   "outputs": [
    {
     "name": "stdout",
     "output_type": "stream",
     "text": [
      "Epoch 27: Train Loss 0.0737, Train Accuracy 0.9744, Test Loss 3.6086, Test Accuracy 0.5452\n",
      "Epoch 28: Train Loss 0.0787, Train Accuracy 0.9730, Test Loss 3.7344, Test Accuracy 0.5481\n",
      "Epoch 29: Train Loss 0.0737, Train Accuracy 0.9745, Test Loss 3.8177, Test Accuracy 0.5471\n",
      "Epoch 30: Train Loss 0.0727, Train Accuracy 0.9756, Test Loss 3.8009, Test Accuracy 0.5491\n",
      "Epoch 31: Train Loss 0.0724, Train Accuracy 0.9762, Test Loss 4.1292, Test Accuracy 0.5448\n",
      "Epoch 32: Train Loss 0.0620, Train Accuracy 0.9787, Test Loss 4.0428, Test Accuracy 0.5501\n",
      "Epoch 33: Train Loss 0.0539, Train Accuracy 0.9821, Test Loss 4.0934, Test Accuracy 0.5499\n",
      "Epoch 34: Train Loss 0.0520, Train Accuracy 0.9832, Test Loss 4.1741, Test Accuracy 0.5475\n",
      "Epoch 35: Train Loss 0.0521, Train Accuracy 0.9825, Test Loss 4.2767, Test Accuracy 0.5458\n",
      "Epoch 36: Train Loss 0.0485, Train Accuracy 0.9829, Test Loss 4.3529, Test Accuracy 0.5519\n",
      "Epoch 37: Train Loss 0.0395, Train Accuracy 0.9874, Test Loss 4.4514, Test Accuracy 0.5462\n",
      "Epoch 38: Train Loss 0.0367, Train Accuracy 0.9875, Test Loss 4.5856, Test Accuracy 0.5491\n",
      "Epoch 39: Train Loss 0.0385, Train Accuracy 0.9869, Test Loss 4.5997, Test Accuracy 0.5436\n",
      "Epoch 40: Train Loss 0.0320, Train Accuracy 0.9898, Test Loss 4.5955, Test Accuracy 0.5477\n"
     ]
    }
   ],
   "source": [
    "# # Load model and optimizer states\n",
    "# checkpoint_path = f'{checkpoint_dir}/{title}_last.pth'\n",
    "# state_dict = torch.load(checkpoint_path)\n",
    "                        \n",
    "# start_epoch = state_dict['epoch']\n",
    "# model.load_state_dict(state_dict['model'])\n",
    "# optimizer.load_state_dict(state_dict['optimizer'])\n",
    "\n",
    "# # Main loop\n",
    "# best_acc = 0.0\n",
    "# for epoch in range(start_epoch, epochs):\n",
    "#     train_summary = train(train_loader, model, optimizer, scheduler, loss_fn, metric_fn, device)\n",
    "#     val_summary = evaluate(val_loader, model, loss_fn, metric_fn, device) \n",
    "    \n",
    "#     # Write log\n",
    "#     train_logger.add_scalar('Loss', train_summary['loss'], epoch + 1)\n",
    "#     train_logger.add_scalar('Accuracy', train_summary['metric'], epoch + 1)\n",
    "#     val_logger.add_scalar('Loss', val_summary['loss'], epoch + 1)\n",
    "#     val_logger.add_scalar('Accuracy', val_summary['metric'], epoch + 1)\n",
    "    \n",
    "#     # Save model\n",
    "#     state_dict = {\n",
    "#         'epoch': epoch + 1,\n",
    "#         'model': model.state_dict(), # 얘는 뭐지???\n",
    "#         'optimizer': optimizer.state_dict(), \n",
    "#     }\n",
    "#     checkpoint_path = f'{checkpoint_dir}/{title}_last.pth'\n",
    "#     torch.save(state_dict, checkpoint_path)\n",
    "    \n",
    "#     # print log\n",
    "#     print((f'Epoch {epoch+1}: '\n",
    "#            + f'Train Loss {train_summary[\"loss\"]:.04f}, ' \n",
    "#            + f'Train Accuracy {train_summary[\"metric\"]:.04f}, '\n",
    "#            + f'Test Loss {val_summary[\"loss\"]:.04f}, '\n",
    "#            + f'Test Accuracy {val_summary[\"metric\"]:.04f}'))\n",
    "    \n",
    "# train_logger.close()\n",
    "# val_logger.close()"
   ]
  },
  {
   "cell_type": "code",
   "execution_count": null,
   "metadata": {},
   "outputs": [],
   "source": []
  }
 ],
 "metadata": {
  "kernelspec": {
   "display_name": "BangEnv",
   "language": "python",
   "name": "bangenv"
  },
  "language_info": {
   "codemirror_mode": {
    "name": "ipython",
    "version": 3
   },
   "file_extension": ".py",
   "mimetype": "text/x-python",
   "name": "python",
   "nbconvert_exporter": "python",
   "pygments_lexer": "ipython3",
   "version": "3.9.12"
  },
  "vscode": {
   "interpreter": {
    "hash": "47cd534c079f69b1fca6fc1b0efc6d00f8e8bb4d8dd2aa87a73e0a70b773969b"
   }
  }
 },
 "nbformat": 4,
 "nbformat_minor": 2
}
